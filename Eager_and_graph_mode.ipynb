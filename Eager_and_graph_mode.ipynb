{
  "nbformat": 4,
  "nbformat_minor": 0,
  "metadata": {
    "colab": {
      "provenance": []
    },
    "kernelspec": {
      "name": "python3",
      "display_name": "Python 3"
    },
    "language_info": {
      "name": "python"
    }
  },
  "cells": [
    {
      "cell_type": "markdown",
      "source": [
        "# Introduction to TensorFlow Graphs\n",
        "<br>\n",
        "Definition of TensorFlow Graphs:\n",
        "\n",
        "A TensorFlow graph is a computational graph that represents a set of TensorFlow operations. It defines the mathematical computation and the dependencies between these computations. The graph is a collection of nodes, where each node represents an operation, and edges represent the flow of data (tensors) between these operations."
      ],
      "metadata": {
        "id": "YP_qOObnCW-v"
      }
    },
    {
      "cell_type": "markdown",
      "source": [
        "Graphs are data structures that contain a set of tf.Operation objects, which represent units of computation; and tf.Tensor objects, which represent the units of data that flow between operations. They are defined in a tf.Graph context. Since these graphs are data structures, they can be saved, run, and restored all without the original Python code"
      ],
      "metadata": {
        "id": "IcdnEszQKJSE"
      }
    },
    {
      "cell_type": "code",
      "execution_count": 1,
      "metadata": {
        "id": "h-o_6pSkCLtg"
      },
      "outputs": [],
      "source": [
        "import tensorflow as tf"
      ]
    },
    {
      "cell_type": "code",
      "source": [
        "@tf.function\n",
        "def graph(a,b):\n",
        "# Define the computational graph\n",
        "    c = tf.add(a,b, name='c')\n",
        "    return c\n",
        "\n",
        "a = tf.constant(2, name='a')\n",
        "b = tf.constant(3, name='b')\n",
        "\n",
        "graph(a,b)\n",
        "graph(a,b)\n",
        "graph(a,b)\n"
      ],
      "metadata": {
        "colab": {
          "base_uri": "https://localhost:8080/"
        },
        "id": "OPWIqkPmCwI4",
        "outputId": "ba2ae526-fc30-4f46-f2f8-e50c35284b79"
      },
      "execution_count": 24,
      "outputs": [
        {
          "output_type": "execute_result",
          "data": {
            "text/plain": [
              "<tf.Tensor: shape=(), dtype=int32, numpy=5>"
            ]
          },
          "metadata": {},
          "execution_count": 24
        }
      ]
    },
    {
      "cell_type": "code",
      "source": [
        "\n",
        "# Disable eager execution to work in graph mode\n",
        "tf.compat.v1.disable_eager_execution()\n",
        "\n",
        "# Define placeholders for input values\n",
        "a = tf.compat.v1.placeholder(tf.float32, name='a')\n",
        "b = tf.compat.v1.placeholder(tf.float32, name='b')\n",
        "\n",
        "# Define operations in the graph\n",
        "c = tf.add(a, b, name='c')\n",
        "d = tf.multiply(a, b, name='d')\n",
        "e = tf.subtract(c, d, name='e')\n",
        "\n",
        "# Create a TensorFlow session\n",
        "with tf.compat.v1.Session() as session:\n",
        "    # Feed values to the placeholders\n",
        "    feed_dict = {a: 2.0, b: 3.0}\n",
        "\n",
        "    # Run the session to execute the graph\n",
        "    result_c = session.run(c, feed_dict=feed_dict)\n",
        "    result_d = session.run(d, feed_dict=feed_dict)\n",
        "    result_e = session.run(e, feed_dict=feed_dict)\n",
        "\n",
        "    # Print the results\n",
        "    print(\"Result c:\", result_c)\n",
        "    print(\"Result d:\", result_d)\n",
        "    print(\"Result e:\", result_e)\n"
      ],
      "metadata": {
        "colab": {
          "base_uri": "https://localhost:8080/"
        },
        "id": "0nhlTtA5JGAA",
        "outputId": "cd0b2410-5ad6-4705-8ecd-ed045f80abe2"
      },
      "execution_count": 25,
      "outputs": [
        {
          "output_type": "stream",
          "name": "stdout",
          "text": [
            "Result c: 5.0\n",
            "Result d: 6.0\n",
            "Result e: -1.0\n"
          ]
        }
      ]
    },
    {
      "cell_type": "markdown",
      "source": [
        "Definition of Eager Execution:\n",
        "\n",
        "Eager execution is a mode in TensorFlow that allows operations to be executed immediately as they are called, without constructing a static computational graph. It contrasts with the traditional graph-based execution model, where you define a graph of operations and then execute the entire graph in a session. With eager execution, you can work with TensorFlow operations much like you would with NumPy, allowing for more dynamic and flexible model development."
      ],
      "metadata": {
        "id": "42KmC9k5Kjx4"
      }
    },
    {
      "cell_type": "code",
      "source": [
        "# Eager mode\n",
        "def graph(a,b):\n",
        "# Define the computational graph\n",
        "    c = tf.add(a,b, name='c')\n",
        "    return c\n",
        "\n",
        "a = tf.constant(2, name='a')\n",
        "b = tf.constant(3, name='b')\n",
        "\n",
        "graph(a,b)\n",
        "graph(a,b)\n",
        "graph(a,b)\n"
      ],
      "metadata": {
        "colab": {
          "base_uri": "https://localhost:8080/"
        },
        "id": "K9YZMVtwDVkG",
        "outputId": "7de77681-95a0-4f96-83b7-7d26fcd78e2a"
      },
      "execution_count": 22,
      "outputs": [
        {
          "output_type": "execute_result",
          "data": {
            "text/plain": [
              "<tf.Tensor: shape=(), dtype=int32, numpy=5>"
            ]
          },
          "metadata": {},
          "execution_count": 22
        }
      ]
    },
    {
      "cell_type": "code",
      "source": [],
      "metadata": {
        "id": "TapYE_20LBPi"
      },
      "execution_count": null,
      "outputs": []
    }
  ]
}