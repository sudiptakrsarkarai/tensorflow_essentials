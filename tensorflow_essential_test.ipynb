{
 "cells": [
  {
   "cell_type": "markdown",
   "id": "a387b458",
   "metadata": {},
   "source": [
    "# Importing necessary libraries"
   ]
  },
  {
   "cell_type": "code",
   "execution_count": 1,
   "id": "605bf1f8",
   "metadata": {},
   "outputs": [],
   "source": [
    "import tensorflow as tf\n",
    "import numpy as np\n",
    "import matplotlib.pyplot as plt"
   ]
  },
  {
   "cell_type": "code",
   "execution_count": 2,
   "id": "cb134dc5",
   "metadata": {},
   "outputs": [
    {
     "data": {
      "image/png": "[encoded data removed]",
      "text/plain": [
       "<Figure size 640x480 with 1 Axes>"
      ]
     },
     "metadata": {},
     "output_type": "display_data"
    }
   ],
   "source": [
    "# Create features\n",
    "X = np.array([-7.0, -4.0, -1.0, 2.0, 5.0, 8.0, 11.0, 14.0])\n",
    "\n",
    "# Create labels\n",
    "y = np.array([3.0, 6.0, 9.0, 12.0, 15.0, 18.0, 21.0, 24.0])\n",
    "\n",
    "# Visualize it\n",
    "plt.scatter(X,y);"
   ]
  },
  {
   "cell_type": "markdown",
   "id": "3a9c67d0",
   "metadata": {},
   "source": [
    "# Input and output shapes"
   ]
  },
  {
   "cell_type": "code",
   "execution_count": 3,
   "id": "4b6b6ca7",
   "metadata": {},
   "outputs": [
    {
     "data": {
      "text/plain": [
       "(<tf.Tensor: shape=(3,), dtype=string, numpy=array([b'bedroom', b'bathroom', b'garage'], dtype=object)>,\n",
       " <tf.Tensor: shape=(1,), dtype=int32, numpy=array([21000])>)"
      ]
     },
     "execution_count": 3,
     "metadata": {},
     "output_type": "execute_result"
    }
   ],
   "source": [
    "house_info = tf.constant([\"bedroom\",\"bathroom\",\"garage\"])\n",
    "house_price = tf.constant([21000])\n",
    "house_info, house_price"
   ]
  },
  {
   "cell_type": "code",
   "execution_count": 4,
   "id": "306bf7c5",
   "metadata": {},
   "outputs": [
    {
     "data": {
      "text/plain": [
       "((8,), (8,))"
      ]
     },
     "execution_count": 4,
     "metadata": {},
     "output_type": "execute_result"
    }
   ],
   "source": [
    "X.shape, y.shape"
   ]
  },
  {
   "cell_type": "markdown",
   "id": "2ae5a3fb",
   "metadata": {},
   "source": [
    "***Turn numpy arrays into tensors***"
   ]
  },
  {
   "cell_type": "code",
   "execution_count": 5,
   "id": "777df565",
   "metadata": {
    "scrolled": true
   },
   "outputs": [
    {
     "data": {
      "text/plain": [
       "(<tf.Tensor: shape=(8,), dtype=float32, numpy=array([-7., -4., -1.,  2.,  5.,  8., 11., 14.], dtype=float32)>,\n",
       " <tf.Tensor: shape=(8,), dtype=float32, numpy=array([ 3.,  6.,  9., 12., 15., 18., 21., 24.], dtype=float32)>)"
      ]
     },
     "execution_count": 5,
     "metadata": {},
     "output_type": "execute_result"
    }
   ],
   "source": [
    "X = tf.cast(tf.constant(X),dtype=tf.float32)\n",
    "y = tf.cast(tf.constant(y),dtype=tf.float32)\n",
    "X, y"
   ]
  },
  {
   "cell_type": "code",
   "execution_count": 6,
   "id": "f4cfec4f",
   "metadata": {},
   "outputs": [
    {
     "data": {
      "text/plain": [
       "<tf.Tensor: shape=(8, 1), dtype=float32, numpy=\n",
       "array([[-7.],\n",
       "       [-4.],\n",
       "       [-1.],\n",
       "       [ 2.],\n",
       "       [ 5.],\n",
       "       [ 8.],\n",
       "       [11.],\n",
       "       [14.]], dtype=float32)>"
      ]
     },
     "execution_count": 6,
     "metadata": {},
     "output_type": "execute_result"
    }
   ],
   "source": [
    "tf.expand_dims(X,axis=-1)"
   ]
  },
  {
   "cell_type": "code",
   "execution_count": 12,
   "id": "bb2b8dad",
   "metadata": {},
   "outputs": [],
   "source": [
    "# Set random seed\n",
    "tf.random.set_seed(42)\n",
    "# Import Sequential API\n",
    "from tensorflow.keras.models import Sequential\n",
    "from tensorflow.keras.layers import Dense\n",
    "from tensorflow.keras import optimizers"
   ]
  },
  {
   "cell_type": "code",
   "execution_count": 19,
   "id": "f64c6f27",
   "metadata": {},
   "outputs": [
    {
     "name": "stderr",
     "output_type": "stream",
     "text": [
      "WARNING:absl:`lr` is deprecated in Keras optimizer, please use `learning_rate` or use the legacy optimizer, e.g.,tf.keras.optimizers.legacy.Adam.\n"
     ]
    },
    {
     "name": "stdout",
     "output_type": "stream",
     "text": [
      "Epoch 1/100\n",
      "1/1 [==============================] - 1s 1s/step - loss: 13.7125 - mae: 13.7125\n",
      "Epoch 2/100\n",
      "1/1 [==============================] - 0s 9ms/step - loss: 13.6452 - mae: 13.6452\n",
      "Epoch 3/100\n",
      "1/1 [==============================] - 0s 6ms/step - loss: 13.5780 - mae: 13.5780\n",
      "Epoch 4/100\n",
      "1/1 [==============================] - 0s 6ms/step - loss: 13.5108 - mae: 13.5108\n",
      "Epoch 5/100\n",
      "1/1 [==============================] - 0s 9ms/step - loss: 13.4437 - mae: 13.4437\n",
      "Epoch 6/100\n",
      "1/1 [==============================] - 0s 5ms/step - loss: 13.3767 - mae: 13.3767\n",
      "Epoch 7/100\n",
      "1/1 [==============================] - 0s 8ms/step - loss: 13.3097 - mae: 13.3097\n",
      "Epoch 8/100\n",
      "1/1 [==============================] - 0s 11ms/step - loss: 13.2427 - mae: 13.2427\n",
      "Epoch 9/100\n",
      "1/1 [==============================] - 0s 8ms/step - loss: 13.1758 - mae: 13.1758\n",
      "Epoch 10/100\n",
      "1/1 [==============================] - 0s 7ms/step - loss: 13.1089 - mae: 13.1089\n",
      "Epoch 11/100\n",
      "1/1 [==============================] - 0s 9ms/step - loss: 13.0420 - mae: 13.0420\n",
      "Epoch 12/100\n",
      "1/1 [==============================] - 0s 10ms/step - loss: 12.9751 - mae: 12.9751\n",
      "Epoch 13/100\n",
      "1/1 [==============================] - 0s 8ms/step - loss: 12.9081 - mae: 12.9081\n",
      "Epoch 14/100\n",
      "1/1 [==============================] - 0s 8ms/step - loss: 12.8412 - mae: 12.8412\n",
      "Epoch 15/100\n",
      "1/1 [==============================] - 0s 9ms/step - loss: 12.7742 - mae: 12.7742\n",
      "Epoch 16/100\n",
      "1/1 [==============================] - 0s 9ms/step - loss: 12.7071 - mae: 12.7071\n",
      "Epoch 17/100\n",
      "1/1 [==============================] - 0s 8ms/step - loss: 12.6401 - mae: 12.6401\n",
      "Epoch 18/100\n",
      "1/1 [==============================] - 0s 9ms/step - loss: 12.5729 - mae: 12.5729\n",
      "Epoch 19/100\n",
      "1/1 [==============================] - 0s 8ms/step - loss: 12.5057 - mae: 12.5057\n",
      "Epoch 20/100\n",
      "1/1 [==============================] - 0s 8ms/step - loss: 12.4385 - mae: 12.4385\n",
      "Epoch 21/100\n",
      "1/1 [==============================] - 0s 7ms/step - loss: 12.3711 - mae: 12.3711\n",
      "Epoch 22/100\n",
      "1/1 [==============================] - 0s 8ms/step - loss: 12.3037 - mae: 12.3037\n",
      "Epoch 23/100\n",
      "1/1 [==============================] - 0s 9ms/step - loss: 12.2362 - mae: 12.2362\n",
      "Epoch 24/100\n",
      "1/1 [==============================] - 0s 6ms/step - loss: 12.1686 - mae: 12.1686\n",
      "Epoch 25/100\n",
      "1/1 [==============================] - 0s 7ms/step - loss: 12.1009 - mae: 12.1009\n",
      "Epoch 26/100\n",
      "1/1 [==============================] - 0s 8ms/step - loss: 12.0330 - mae: 12.0330\n",
      "Epoch 27/100\n",
      "1/1 [==============================] - 0s 7ms/step - loss: 11.9651 - mae: 11.9651\n",
      "Epoch 28/100\n",
      "1/1 [==============================] - 0s 8ms/step - loss: 11.8970 - mae: 11.8970\n",
      "Epoch 29/100\n",
      "1/1 [==============================] - 0s 8ms/step - loss: 11.8287 - mae: 11.8287\n",
      "Epoch 30/100\n",
      "1/1 [==============================] - 0s 8ms/step - loss: 11.7603 - mae: 11.7603\n",
      "Epoch 31/100\n",
      "1/1 [==============================] - 0s 6ms/step - loss: 11.6918 - mae: 11.6918\n",
      "Epoch 32/100\n",
      "1/1 [==============================] - 0s 10ms/step - loss: 11.6230 - mae: 11.6230\n",
      "Epoch 33/100\n",
      "1/1 [==============================] - 0s 10ms/step - loss: 11.5541 - mae: 11.5541\n",
      "Epoch 34/100\n",
      "1/1 [==============================] - 0s 8ms/step - loss: 11.4850 - mae: 11.4850\n",
      "Epoch 35/100\n",
      "1/1 [==============================] - 0s 9ms/step - loss: 11.4156 - mae: 11.4156\n",
      "Epoch 36/100\n",
      "1/1 [==============================] - 0s 9ms/step - loss: 11.3461 - mae: 11.3461\n",
      "Epoch 37/100\n",
      "1/1 [==============================] - 0s 7ms/step - loss: 11.2763 - mae: 11.2763\n",
      "Epoch 38/100\n",
      "1/1 [==============================] - 0s 8ms/step - loss: 11.2063 - mae: 11.2063\n",
      "Epoch 39/100\n",
      "1/1 [==============================] - 0s 8ms/step - loss: 11.1360 - mae: 11.1360\n",
      "Epoch 40/100\n",
      "1/1 [==============================] - 0s 7ms/step - loss: 11.0655 - mae: 11.0655\n",
      "Epoch 41/100\n",
      "1/1 [==============================] - 0s 7ms/step - loss: 10.9947 - mae: 10.9947\n",
      "Epoch 42/100\n",
      "1/1 [==============================] - 0s 10ms/step - loss: 10.9236 - mae: 10.9236\n",
      "Epoch 43/100\n",
      "1/1 [==============================] - 0s 9ms/step - loss: 10.8522 - mae: 10.8522\n",
      "Epoch 44/100\n",
      "1/1 [==============================] - 0s 9ms/step - loss: 10.7806 - mae: 10.7806\n",
      "Epoch 45/100\n",
      "1/1 [==============================] - 0s 8ms/step - loss: 10.7086 - mae: 10.7086\n",
      "Epoch 46/100\n",
      "1/1 [==============================] - 0s 8ms/step - loss: 10.6364 - mae: 10.6364\n",
      "Epoch 47/100\n",
      "1/1 [==============================] - 0s 7ms/step - loss: 10.5638 - mae: 10.5638\n",
      "Epoch 48/100\n",
      "1/1 [==============================] - 0s 8ms/step - loss: 10.4909 - mae: 10.4909\n",
      "Epoch 49/100\n",
      "1/1 [==============================] - 0s 8ms/step - loss: 10.4176 - mae: 10.4176\n",
      "Epoch 50/100\n",
      "1/1 [==============================] - 0s 8ms/step - loss: 10.3440 - mae: 10.3440\n",
      "Epoch 51/100\n",
      "1/1 [==============================] - 0s 8ms/step - loss: 10.2701 - mae: 10.2701\n",
      "Epoch 52/100\n",
      "1/1 [==============================] - 0s 9ms/step - loss: 10.1958 - mae: 10.1958\n",
      "Epoch 53/100\n",
      "1/1 [==============================] - 0s 8ms/step - loss: 10.1211 - mae: 10.1211\n",
      "Epoch 54/100\n",
      "1/1 [==============================] - 0s 9ms/step - loss: 10.0460 - mae: 10.0460\n",
      "Epoch 55/100\n",
      "1/1 [==============================] - 0s 8ms/step - loss: 9.9706 - mae: 9.9706\n",
      "Epoch 56/100\n",
      "1/1 [==============================] - 0s 7ms/step - loss: 9.8947 - mae: 9.8947\n",
      "Epoch 57/100\n",
      "1/1 [==============================] - 0s 6ms/step - loss: 9.8185 - mae: 9.8185\n",
      "Epoch 58/100\n",
      "1/1 [==============================] - 0s 9ms/step - loss: 9.7418 - mae: 9.7418\n",
      "Epoch 59/100\n",
      "1/1 [==============================] - 0s 10ms/step - loss: 9.6648 - mae: 9.6648\n",
      "Epoch 60/100\n",
      "1/1 [==============================] - 0s 8ms/step - loss: 9.5873 - mae: 9.5873\n",
      "Epoch 61/100\n",
      "1/1 [==============================] - 0s 7ms/step - loss: 9.5093 - mae: 9.5093\n",
      "Epoch 62/100\n",
      "1/1 [==============================] - 0s 5ms/step - loss: 9.4309 - mae: 9.4309\n",
      "Epoch 63/100\n",
      "1/1 [==============================] - 0s 8ms/step - loss: 9.3521 - mae: 9.3521\n",
      "Epoch 64/100\n",
      "1/1 [==============================] - 0s 8ms/step - loss: 9.2728 - mae: 9.2728\n",
      "Epoch 65/100\n",
      "1/1 [==============================] - 0s 6ms/step - loss: 9.1930 - mae: 9.1930\n",
      "Epoch 66/100\n",
      "1/1 [==============================] - 0s 7ms/step - loss: 9.1128 - mae: 9.1128\n",
      "Epoch 67/100\n",
      "1/1 [==============================] - 0s 8ms/step - loss: 9.0320 - mae: 9.0320\n",
      "Epoch 68/100\n",
      "1/1 [==============================] - 0s 7ms/step - loss: 8.9508 - mae: 8.9508\n",
      "Epoch 69/100\n",
      "1/1 [==============================] - 0s 8ms/step - loss: 8.8691 - mae: 8.8691\n",
      "Epoch 70/100\n",
      "1/1 [==============================] - 0s 8ms/step - loss: 8.7868 - mae: 8.7868\n",
      "Epoch 71/100\n",
      "1/1 [==============================] - 0s 7ms/step - loss: 8.7041 - mae: 8.7041\n",
      "Epoch 72/100\n",
      "1/1 [==============================] - 0s 9ms/step - loss: 8.6208 - mae: 8.6208\n",
      "Epoch 73/100\n",
      "1/1 [==============================] - 0s 9ms/step - loss: 8.5370 - mae: 8.5370\n",
      "Epoch 74/100\n",
      "1/1 [==============================] - 0s 6ms/step - loss: 8.4527 - mae: 8.4527\n",
      "Epoch 75/100\n",
      "1/1 [==============================] - 0s 8ms/step - loss: 8.3678 - mae: 8.3678\n",
      "Epoch 76/100\n",
      "1/1 [==============================] - 0s 9ms/step - loss: 8.2824 - mae: 8.2824\n",
      "Epoch 77/100\n",
      "1/1 [==============================] - 0s 8ms/step - loss: 8.1964 - mae: 8.1964\n",
      "Epoch 78/100\n",
      "1/1 [==============================] - 0s 7ms/step - loss: 8.1099 - mae: 8.1099\n",
      "Epoch 79/100\n",
      "1/1 [==============================] - 0s 8ms/step - loss: 8.0228 - mae: 8.0228\n",
      "Epoch 80/100\n",
      "1/1 [==============================] - 0s 10ms/step - loss: 7.9351 - mae: 7.9351\n",
      "Epoch 81/100\n",
      "1/1 [==============================] - 0s 7ms/step - loss: 7.8468 - mae: 7.8468\n",
      "Epoch 82/100\n",
      "1/1 [==============================] - 0s 8ms/step - loss: 7.7579 - mae: 7.7579\n",
      "Epoch 83/100\n",
      "1/1 [==============================] - 0s 7ms/step - loss: 7.6685 - mae: 7.6685\n",
      "Epoch 84/100\n",
      "1/1 [==============================] - 0s 8ms/step - loss: 7.5784 - mae: 7.5784\n",
      "Epoch 85/100\n",
      "1/1 [==============================] - 0s 9ms/step - loss: 7.4877 - mae: 7.4877\n",
      "Epoch 86/100\n",
      "1/1 [==============================] - 0s 10ms/step - loss: 7.3964 - mae: 7.3964\n",
      "Epoch 87/100\n",
      "1/1 [==============================] - 0s 8ms/step - loss: 7.3045 - mae: 7.3045\n",
      "Epoch 88/100\n",
      "1/1 [==============================] - 0s 10ms/step - loss: 7.2119 - mae: 7.2119\n",
      "Epoch 89/100\n",
      "1/1 [==============================] - 0s 10ms/step - loss: 7.1188 - mae: 7.1188\n",
      "Epoch 90/100\n",
      "1/1 [==============================] - 0s 10ms/step - loss: 7.0249 - mae: 7.0249\n",
      "Epoch 91/100\n",
      "1/1 [==============================] - 0s 9ms/step - loss: 6.9305 - mae: 6.9305\n",
      "Epoch 92/100\n",
      "1/1 [==============================] - 0s 7ms/step - loss: 6.8354 - mae: 6.8354\n",
      "Epoch 93/100\n",
      "1/1 [==============================] - 0s 10ms/step - loss: 6.7487 - mae: 6.7487\n",
      "Epoch 94/100\n",
      "1/1 [==============================] - 0s 7ms/step - loss: 6.7374 - mae: 6.7374\n",
      "Epoch 95/100\n",
      "1/1 [==============================] - 0s 8ms/step - loss: 6.7264 - mae: 6.7264\n",
      "Epoch 96/100\n",
      "1/1 [==============================] - 0s 7ms/step - loss: 6.7156 - mae: 6.7156\n",
      "Epoch 97/100\n",
      "1/1 [==============================] - 0s 9ms/step - loss: 6.7050 - mae: 6.7050\n",
      "Epoch 98/100\n",
      "1/1 [==============================] - 0s 9ms/step - loss: 6.6946 - mae: 6.6946\n",
      "Epoch 99/100\n",
      "1/1 [==============================] - 0s 7ms/step - loss: 6.6844 - mae: 6.6844\n",
      "Epoch 100/100\n",
      "1/1 [==============================] - 0s 9ms/step - loss: 6.6744 - mae: 6.6744\n"
     ]
    },
    {
     "data": {
      "text/plain": [
       "<keras.src.callbacks.History at 0x1f228bef610>"
      ]
     },
     "execution_count": 19,
     "metadata": {},
     "output_type": "execute_result"
    }
   ],
   "source": [
    "# Create a model using the Sequential API\n",
    "\n",
    "model = Sequential()\n",
    "model.add(Dense(50,activation=None))\n",
    "model.add(Dense(1))\n",
    "# Compile the model\n",
    "\n",
    "model.compile(loss=\"mae\",optimizer=optimizers.Adam(lr=0.01) ,metrics=[\"mae\"])\n",
    "\n",
    "# Fit the model\n",
    "\n",
    "model.fit(tf.expand_dims(X,axis=-1),y,epochs=100)"
   ]
  },
  {
   "cell_type": "code",
   "execution_count": 15,
   "id": "79ea1f85",
   "metadata": {},
   "outputs": [
    {
     "name": "stderr",
     "output_type": "stream",
     "text": [
      "C:\\Users\\sudee\\AppData\\Roaming\\Python\\Python311\\site-packages\\keras\\src\\engine\\training.py:3000: UserWarning: You are saving your model as an HDF5 file via `model.save()`. This file format is considered legacy. We recommend using instead the native Keras format, e.g. `model.save('my_model.keras')`.\n",
      "  saving_api.save_model(\n"
     ]
    }
   ],
   "source": [
    "from tensorflow.keras.models import load_model\n",
    "\n",
    "model.save('tensor.h5')"
   ]
  },
  {
   "cell_type": "code",
   "execution_count": 24,
   "id": "0d3619ad",
   "metadata": {},
   "outputs": [
    {
     "data": {
      "text/plain": [
       "(<tf.Tensor: shape=(8,), dtype=float32, numpy=array([-7., -4., -1.,  2.,  5.,  8., 11., 14.], dtype=float32)>,\n",
       " <tf.Tensor: shape=(8,), dtype=float32, numpy=array([ 3.,  6.,  9., 12., 15., 18., 21., 24.], dtype=float32)>)"
      ]
     },
     "execution_count": 24,
     "metadata": {},
     "output_type": "execute_result"
    }
   ],
   "source": [
    "X,y"
   ]
  },
  {
   "cell_type": "code",
   "execution_count": 16,
   "id": "b6129437",
   "metadata": {},
   "outputs": [
    {
     "name": "stdout",
     "output_type": "stream",
     "text": [
      "1/1 [==============================] - 0s 185ms/step\n"
     ]
    },
    {
     "data": {
      "text/plain": [
       "array([[31.351263]], dtype=float32)"
      ]
     },
     "execution_count": 16,
     "metadata": {},
     "output_type": "execute_result"
    }
   ],
   "source": [
    "model.predict([17.0])"
   ]
  },
  {
   "cell_type": "markdown",
   "id": "d6534df1",
   "metadata": {},
   "source": [
    "**Creating new dataset**"
   ]
  },
  {
   "cell_type": "code",
   "execution_count": 21,
   "id": "c61db2a0",
   "metadata": {},
   "outputs": [],
   "source": [
    "X = tf.range(-100,100,4)\n",
    "y = X+10"
   ]
  },
  {
   "cell_type": "code",
   "execution_count": 22,
   "id": "9a8f6c6c",
   "metadata": {},
   "outputs": [],
   "source": [
    "# Split the data into train and test sets\n",
    "X_train = X[:40]  # first 40 are training samples (80% of the data)\n",
    "y_train = y[:40]\n",
    "\n",
    "X_test = X[40:] # Last 10 are test samples (20% of the data)\n",
    "y_test = y[40:]"
   ]
  },
  {
   "cell_type": "markdown",
   "id": "6e254444",
   "metadata": {},
   "source": [
    "# Visualisation of data"
   ]
  },
  {
   "cell_type": "code",
   "execution_count": 25,
   "id": "73dac888",
   "metadata": {},
   "outputs": [
    {
     "data": {
      "image/png": "[encoded data removed]",
      "text/plain": [
       "<Figure size 1000x700 with 1 Axes>"
      ]
     },
     "metadata": {},
     "output_type": "display_data"
    }
   ],
   "source": [
    "plt.figure(figsize=(10,7))\n",
    "plt.scatter(X_train,y_train,c='b',label=\"Training data\")\n",
    "plt.scatter(X_test,y_test,c='g',label=\"Testing data\")\n",
    "plt.legend();"
   ]
  },
  {
   "cell_type": "code",
   "execution_count": null,
   "id": "dbfb5ce3",
   "metadata": {},
   "outputs": [],
   "source": []
  }
 ],
 "metadata": {
  "kernelspec": {
   "display_name": "Python 3 (ipykernel)",
   "language": "python",
   "name": "python3"
  },
  "language_info": {
   "codemirror_mode": {
    "name": "ipython",
    "version": 3
   },
   "file_extension": ".py",
   "mimetype": "text/x-python",
   "name": "python",
   "nbconvert_exporter": "python",
   "pygments_lexer": "ipython3",
   "version": "3.11.3"
  }
 },
 "nbformat": 4,
 "nbformat_minor": 5
}
