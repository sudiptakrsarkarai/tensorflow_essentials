{
 "cells": [
  {
   "cell_type": "markdown",
   "id": "5174a371",
   "metadata": {},
   "source": [
    "# Fundamentals of Tensorflow"
   ]
  },
  {
   "cell_type": "code",
   "execution_count": 1,
   "id": "8bf1470e",
   "metadata": {},
   "outputs": [],
   "source": [
    "import tensorflow as tf"
   ]
  },
  {
   "cell_type": "code",
   "execution_count": 2,
   "id": "169bcbdc",
   "metadata": {},
   "outputs": [
    {
     "data": {
      "text/plain": [
       "<tf.Tensor: shape=(3, 3), dtype=float16, numpy=\n",
       "array([[1., 0., 0.],\n",
       "       [0., 1., 0.],\n",
       "       [0., 0., 1.]], dtype=float16)>"
      ]
     },
     "execution_count": 2,
     "metadata": {},
     "output_type": "execute_result"
    }
   ],
   "source": [
    "id_matrix = tf.eye(3,3,dtype=tf.float16)\n",
    "id_matrix"
   ]
  },
  {
   "cell_type": "markdown",
   "id": "c8c764b0",
   "metadata": {},
   "source": [
    "**Fill Values Attribute to insert numbers directly in shape instead of multiplying**"
   ]
  },
  {
   "cell_type": "code",
   "execution_count": 3,
   "id": "1263a710",
   "metadata": {},
   "outputs": [
    {
     "data": {
      "text/plain": [
       "<tf.Tensor: shape=(1, 3, 4), dtype=int32, numpy=\n",
       "array([[[5, 5, 5, 5],\n",
       "        [5, 5, 5, 5],\n",
       "        [5, 5, 5, 5]]])>"
      ]
     },
     "execution_count": 3,
     "metadata": {},
     "output_type": "execute_result"
    }
   ],
   "source": [
    "fill_tensor = tf.fill([1,3,4],5)\n",
    "fill_tensor"
   ]
  },
  {
   "cell_type": "code",
   "execution_count": 4,
   "id": "db7c4185",
   "metadata": {},
   "outputs": [
    {
     "data": {
      "text/plain": [
       "<tf.Tensor: shape=(2, 2, 3), dtype=float16, numpy=\n",
       "array([[[1., 1., 1.],\n",
       "        [1., 1., 1.]],\n",
       "\n",
       "       [[1., 1., 1.],\n",
       "        [1., 1., 1.]]], dtype=float16)>"
      ]
     },
     "execution_count": 4,
     "metadata": {},
     "output_type": "execute_result"
    }
   ],
   "source": [
    "ones_tensor = tf.ones([2,2,3],dtype=tf.float16)\n",
    "ones_tensor"
   ]
  },
  {
   "cell_type": "code",
   "execution_count": 5,
   "id": "bf73d613",
   "metadata": {},
   "outputs": [
    {
     "name": "stdout",
     "output_type": "stream",
     "text": [
      "tf.Tensor([2 2 3], shape=(3,), dtype=int32)\n"
     ]
    }
   ],
   "source": [
    "print(tf.shape(ones_tensor))"
   ]
  },
  {
   "cell_type": "code",
   "execution_count": 6,
   "id": "8f668167",
   "metadata": {},
   "outputs": [
    {
     "data": {
      "text/plain": [
       "<tf.Tensor: shape=(), dtype=int32, numpy=2>"
      ]
     },
     "execution_count": 6,
     "metadata": {},
     "output_type": "execute_result"
    }
   ],
   "source": [
    "tensor = tf.constant([[1,2,3],[4,5,6],[7,8,9]])\n",
    "tf.rank(tensor)"
   ]
  },
  {
   "cell_type": "code",
   "execution_count": 7,
   "id": "d21feccb",
   "metadata": {},
   "outputs": [
    {
     "data": {
      "text/plain": [
       "<tf.Tensor: shape=(), dtype=int32, numpy=9>"
      ]
     },
     "execution_count": 7,
     "metadata": {},
     "output_type": "execute_result"
    }
   ],
   "source": [
    "tf.size(tensor)"
   ]
  },
  {
   "cell_type": "markdown",
   "id": "868d8b48",
   "metadata": {},
   "source": [
    "**Random Normal and Uniform Distribution**"
   ]
  },
  {
   "cell_type": "code",
   "execution_count": 8,
   "id": "582c163c",
   "metadata": {},
   "outputs": [
    {
     "data": {
      "text/plain": [
       "<tf.Tensor: shape=(5, 5), dtype=float32, numpy=\n",
       "array([[ 0.3274685 , -0.8426258 ,  0.3194337 , -1.4075519 , -2.3880599 ],\n",
       "       [-1.0392479 , -0.5573232 ,  0.539707  ,  1.6994323 ,  0.28893656],\n",
       "       [-1.5066116 , -0.26454744, -0.59722406, -1.9171132 , -0.62044144],\n",
       "       [ 0.8504023 , -0.40604794, -3.0258412 ,  0.9058464 ,  0.29855987],\n",
       "       [-0.22561555, -0.7616443 , -1.891714  , -0.9384712 ,  0.77852213]],\n",
       "      dtype=float32)>"
      ]
     },
     "execution_count": 8,
     "metadata": {},
     "output_type": "execute_result"
    }
   ],
   "source": [
    "tf.random.set_seed(42)\n",
    "normal = tf.random.normal(shape=[5,5])\n",
    "normal"
   ]
  },
  {
   "cell_type": "code",
   "execution_count": 9,
   "id": "38107580",
   "metadata": {},
   "outputs": [
    {
     "data": {
      "text/plain": [
       "<tf.Tensor: shape=(5, 5), dtype=float32, numpy=\n",
       "array([[2.081514  , 1.3429081 , 2.3984158 , 1.8228567 , 4.773557  ],\n",
       "       [4.709323  , 3.0741696 , 1.7921072 , 2.968012  , 1.0775548 ],\n",
       "       [0.38725853, 2.8960657 , 1.4590198 , 1.3359016 , 1.8506229 ],\n",
       "       [3.5805166 , 2.2938883 , 0.5882281 , 1.0536855 , 2.7209866 ],\n",
       "       [4.9490347 , 1.9197929 , 0.2341783 , 4.359231  , 1.2940854 ]],\n",
       "      dtype=float32)>"
      ]
     },
     "execution_count": 9,
     "metadata": {},
     "output_type": "execute_result"
    }
   ],
   "source": [
    "uniform = tf.random.uniform(shape=[5,5],maxval=5,seed=42)\n",
    "uniform"
   ]
  },
  {
   "cell_type": "markdown",
   "id": "63b82fe0",
   "metadata": {},
   "source": [
    "**Converts abs val into positive**"
   ]
  },
  {
   "cell_type": "code",
   "execution_count": 11,
   "id": "9a556847",
   "metadata": {},
   "outputs": [
    {
     "data": {
      "text/plain": [
       "<tf.Tensor: shape=(2,), dtype=float32, numpy=array([2.25, 3.25], dtype=float32)>"
      ]
     },
     "execution_count": 11,
     "metadata": {},
     "output_type": "execute_result"
    }
   ],
   "source": [
    "matrix_1d = tf.constant([-2.25,3.25])\n",
    "tf.abs(matrix_1d)"
   ]
  },
  {
   "cell_type": "code",
   "execution_count": 12,
   "id": "f4c40932",
   "metadata": {},
   "outputs": [
    {
     "data": {
      "text/plain": [
       "<tf.Tensor: shape=(1,), dtype=float64, numpy=array([5.25594901])>"
      ]
     },
     "execution_count": 12,
     "metadata": {},
     "output_type": "execute_result"
    }
   ],
   "source": [
    "x_abs_complex = tf.constant([-2.25+4.75j])\n",
    "tf.abs(x_abs_complex)"
   ]
  },
  {
   "cell_type": "code",
   "execution_count": 19,
   "id": "a02a8f1d",
   "metadata": {},
   "outputs": [
    {
     "data": {
      "text/plain": [
       "<tf.Tensor: shape=(2, 1), dtype=float32, numpy=\n",
       "array([[nan],\n",
       "       [ 4.]], dtype=float32)>"
      ]
     },
     "execution_count": 19,
     "metadata": {},
     "output_type": "execute_result"
    }
   ],
   "source": [
    "y = tf.constant([[-4.0], [16.0]])\n",
    "tf.sqrt(y)"
   ]
  },
  {
   "cell_type": "code",
   "execution_count": 27,
   "id": "a54dd562",
   "metadata": {},
   "outputs": [
    {
     "name": "stdout",
     "output_type": "stream",
     "text": [
      "tf.Tensor([0.5 0.5 0.5 0.5 0.5 0.5 inf 0.5], shape=(8,), dtype=float64)\n",
      "tf.Tensor([0.5 0.5 0.5 0.5 0.5 0.5 0.  0.5], shape=(8,), dtype=float32)\n",
      "tf.Tensor([  2   8  18  32  50  72   0 128], shape=(8,), dtype=int32)\n",
      "tf.Tensor([ 3  6  9 12 15 18  7 24], shape=(8,), dtype=int32)\n",
      "tf.Tensor([-1 -2 -3 -4 -5 -6  7 -8], shape=(8,), dtype=int32)\n"
     ]
    }
   ],
   "source": [
    "x = tf.constant([1,2,3,4,5,6,7,8],dtype=tf.int32)\n",
    "y = tf.constant([2,4,6,8,10,12,0,16],dtype=tf.int32)\n",
    "print(tf.divide(x,y))\n",
    "print(tf.math.divide_no_nan(tf.cast(x,dtype=tf.float32),tf.cast(y,dtype=tf.float32)))\n",
    "print(tf.multiply(x,y))\n",
    "print(tf.add(x,y))\n",
    "print(tf.subtract(x,y))\n"
   ]
  },
  {
   "cell_type": "code",
   "execution_count": 33,
   "id": "2e2832a0",
   "metadata": {},
   "outputs": [
    {
     "name": "stdout",
     "output_type": "stream",
     "text": [
      "tf.Tensor(\n",
      "[[35. 21. 42. 42. 28. 42.]\n",
      " [25. 15. 30. 30. 20. 30.]\n",
      " [15.  9. 18. 18. 12. 18.]], shape=(3, 6), dtype=float32)\n",
      "tf.Tensor(\n",
      "[[5. 3. 6. 6. 4. 6.]\n",
      " [5. 3. 5. 5. 4. 5.]\n",
      " [3. 3. 3. 3. 3. 3.]], shape=(3, 6), dtype=float32)\n",
      "tf.Tensor(\n",
      "[[7. 7. 7. 7. 7. 7.]\n",
      " [5. 5. 6. 6. 5. 6.]\n",
      " [5. 3. 6. 6. 4. 6.]], shape=(3, 6), dtype=float32)\n",
      "tf.Tensor(\n",
      "[[7.81250e+04 2.18700e+03 2.79936e+05 2.79936e+05 1.63840e+04 2.79936e+05]\n",
      " [3.12500e+03 2.43000e+02 7.77600e+03 7.77600e+03 1.02400e+03 7.77600e+03]\n",
      " [1.25000e+02 2.70000e+01 2.16000e+02 2.16000e+02 6.40000e+01 2.16000e+02]], shape=(3, 6), dtype=float32)\n",
      "tf.Tensor(2, shape=(), dtype=int64)\n"
     ]
    }
   ],
   "source": [
    "x_1 = tf.constant([5,3,6,6,4,6],dtype=tf.float32)\n",
    "x_2 = tf.constant([[7], [5], [3]],dtype=tf.float32)\n",
    "print(tf.math.multiply(x_1,x_2))\n",
    "print(tf.math.minimum(x_1,x_2))\n",
    "print(tf.math.maximum(x_1,x_2))\n",
    "print(tf.pow(x_1,x_2))\n",
    "print(tf.math.argmax(x_1))"
   ]
  },
  {
   "cell_type": "code",
   "execution_count": 40,
   "id": "e1f5ca48",
   "metadata": {},
   "outputs": [
    {
     "name": "stdout",
     "output_type": "stream",
     "text": [
      "tf.Tensor(47, shape=(), dtype=int32)\n",
      "tf.Tensor(1, shape=(), dtype=int32)\n",
      "tf.Tensor(5, shape=(), dtype=int32)\n",
      "tf.Tensor(2.898, shape=(), dtype=float16)\n"
     ]
    }
   ],
   "source": [
    "tensor_2d = tf.constant([[1,2,3],\n",
    "                        [4,6,9],\n",
    "                        [5,7,10]])\n",
    "print(tf.math.reduce_sum(tensor_2d))\n",
    "print(tf.math.reduce_min(tensor_2d))\n",
    "print(tf.math.reduce_mean(tensor_2d))\n",
    "print(tf.math.reduce_std(tf.cast(tensor_2d,dtype=tf.float16)))"
   ]
  },
  {
   "cell_type": "code",
   "execution_count": 42,
   "id": "49120f1f",
   "metadata": {},
   "outputs": [
    {
     "data": {
      "text/plain": [
       "TopKV2(values=<tf.Tensor: shape=(3, 1), dtype=int32, numpy=\n",
       "array([[ 3],\n",
       "       [ 9],\n",
       "       [10]])>, indices=<tf.Tensor: shape=(3, 1), dtype=int32, numpy=\n",
       "array([[2],\n",
       "       [2],\n",
       "       [2]])>)"
      ]
     },
     "execution_count": 42,
     "metadata": {},
     "output_type": "execute_result"
    }
   ],
   "source": [
    "tf.math.top_k(tensor_2d,k=1)"
   ]
  },
  {
   "cell_type": "code",
   "execution_count": null,
   "id": "cead062f",
   "metadata": {},
   "outputs": [],
   "source": []
  }
 ],
 "metadata": {
  "kernelspec": {
   "display_name": "Python 3 (ipykernel)",
   "language": "python",
   "name": "python3"
  },
  "language_info": {
   "codemirror_mode": {
    "name": "ipython",
    "version": 3
   },
   "file_extension": ".py",
   "mimetype": "text/x-python",
   "name": "python",
   "nbconvert_exporter": "python",
   "pygments_lexer": "ipython3",
   "version": "3.11.3"
  }
 },
 "nbformat": 4,
 "nbformat_minor": 5
}
