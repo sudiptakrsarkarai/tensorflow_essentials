{
 "cells": [
  {
   "cell_type": "markdown",
   "id": "0279c83a",
   "metadata": {},
   "source": [
    "# Tensorflow Essentials"
   ]
  },
  {
   "cell_type": "code",
   "execution_count": 1,
   "id": "0274f2b8",
   "metadata": {},
   "outputs": [],
   "source": [
    "import tensorflow as tf\n",
    "import numpy  as np"
   ]
  },
  {
   "cell_type": "code",
   "execution_count": 2,
   "id": "3a3f81a0",
   "metadata": {},
   "outputs": [
    {
     "data": {
      "text/plain": [
       "<tf.Tensor: shape=(3,), dtype=float64, numpy=array([ 3.,  7., 10.])>"
      ]
     },
     "execution_count": 2,
     "metadata": {},
     "output_type": "execute_result"
    }
   ],
   "source": [
    "#Create a tensor directily from a Numpy array\n",
    "var = tf.constant(np.array([3., 7., 10.]))\n",
    "var"
   ]
  },
  {
   "cell_type": "code",
   "execution_count": 3,
   "id": "42075e0a",
   "metadata": {},
   "outputs": [
    {
     "data": {
      "text/plain": [
       "(array([ 3.,  7., 10.]), numpy.ndarray)"
      ]
     },
     "execution_count": 3,
     "metadata": {},
     "output_type": "execute_result"
    }
   ],
   "source": [
    "# Convert tensor back to numpy array\n",
    "np.array(var), type(np.array(var))"
   ]
  },
  {
   "cell_type": "code",
   "execution_count": 5,
   "id": "7a1f8ad6",
   "metadata": {},
   "outputs": [
    {
     "data": {
      "text/plain": [
       "(tf.float64, tf.float32)"
      ]
     },
     "execution_count": 5,
     "metadata": {},
     "output_type": "execute_result"
    }
   ],
   "source": [
    "# The default types of each are slightly different \n",
    "num = tf.constant(np.array([3., 7., 10.]))\n",
    "tensor = tf.constant([3., 7.1, 10.])\n",
    "# Check the datatypes of each\n",
    "num.dtype, tensor.dtype"
   ]
  },
  {
   "cell_type": "markdown",
   "id": "4ee5718c",
   "metadata": {},
   "source": [
    "**Finding Access to GPUs**"
   ]
  },
  {
   "cell_type": "code",
   "execution_count": 6,
   "id": "26792555",
   "metadata": {},
   "outputs": [
    {
     "data": {
      "text/plain": [
       "[PhysicalDevice(name='/physical_device:CPU:0', device_type='CPU')]"
      ]
     },
     "execution_count": 6,
     "metadata": {},
     "output_type": "execute_result"
    }
   ],
   "source": [
    "tf.config.list_physical_devices()"
   ]
  },
  {
   "cell_type": "code",
   "execution_count": null,
   "id": "4adf454f",
   "metadata": {},
   "outputs": [],
   "source": []
  }
 ],
 "metadata": {
  "kernelspec": {
   "display_name": "Python 3 (ipykernel)",
   "language": "python",
   "name": "python3"
  },
  "language_info": {
   "codemirror_mode": {
    "name": "ipython",
    "version": 3
   },
   "file_extension": ".py",
   "mimetype": "text/x-python",
   "name": "python",
   "nbconvert_exporter": "python",
   "pygments_lexer": "ipython3",
   "version": "3.11.3"
  }
 },
 "nbformat": 4,
 "nbformat_minor": 5
}
