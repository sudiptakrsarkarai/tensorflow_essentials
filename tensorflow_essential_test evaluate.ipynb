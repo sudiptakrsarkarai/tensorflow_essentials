{
  "cells": [
    {
      "cell_type": "markdown",
      "id": "a387b458",
      "metadata": {
        "id": "a387b458"
      },
      "source": [
        "# Importing necessary libraries"
      ]
    },
    {
      "cell_type": "code",
      "execution_count": 1,
      "id": "605bf1f8",
      "metadata": {
        "id": "605bf1f8"
      },
      "outputs": [],
      "source": [
        "import tensorflow as tf\n",
        "import numpy as np\n",
        "import matplotlib.pyplot as plt"
      ]
    },
    {
      "cell_type": "code",
      "execution_count": 2,
      "id": "cb134dc5",
      "metadata": {
        "colab": {
          "base_uri": "https://localhost:8080/",
          "height": 435
        },
        "id": "cb134dc5",
        "outputId": "7385b80d-7c49-403f-ac8c-d421d9fda036"
      },
      "outputs": [
        {
          "output_type": "display_data",
          "data": {
            "text/plain": [
              "<Figure size 640x480 with 1 Axes>"
            ],
            "image/png": "[encoded data removed]"
          },
          "metadata": {}
        }
      ],
      "source": [
        "# Create features\n",
        "X = np.array([-7.0, -4.0, -1.0, 2.0, 5.0, 8.0, 11.0, 14.0])\n",
        "\n",
        "# Create labels\n",
        "y = np.array([3.0, 6.0, 9.0, 12.0, 15.0, 18.0, 21.0, 24.0])\n",
        "\n",
        "# Visualize it\n",
        "plt.scatter(X,y);"
      ]
    },
    {
      "cell_type": "markdown",
      "id": "3a9c67d0",
      "metadata": {
        "id": "3a9c67d0"
      },
      "source": [
        "# Input and output shapes"
      ]
    },
    {
      "cell_type": "code",
      "execution_count": 3,
      "id": "4b6b6ca7",
      "metadata": {
        "colab": {
          "base_uri": "https://localhost:8080/"
        },
        "id": "4b6b6ca7",
        "outputId": "ab323531-20f2-4a2f-c847-95ee94c4bb3a"
      },
      "outputs": [
        {
          "output_type": "execute_result",
          "data": {
            "text/plain": [
              "(<tf.Tensor: shape=(3,), dtype=string, numpy=array([b'bedroom', b'bathroom', b'garage'], dtype=object)>,\n",
              " <tf.Tensor: shape=(1,), dtype=int32, numpy=array([21000], dtype=int32)>)"
            ]
          },
          "metadata": {},
          "execution_count": 3
        }
      ],
      "source": [
        "house_info = tf.constant([\"bedroom\",\"bathroom\",\"garage\"])\n",
        "house_price = tf.constant([21000])\n",
        "house_info, house_price"
      ]
    },
    {
      "cell_type": "code",
      "execution_count": 4,
      "id": "306bf7c5",
      "metadata": {
        "colab": {
          "base_uri": "https://localhost:8080/"
        },
        "id": "306bf7c5",
        "outputId": "a7b787ca-de9c-47c0-847d-7661482a5bb9"
      },
      "outputs": [
        {
          "output_type": "execute_result",
          "data": {
            "text/plain": [
              "((8,), (8,))"
            ]
          },
          "metadata": {},
          "execution_count": 4
        }
      ],
      "source": [
        "X.shape, y.shape"
      ]
    },
    {
      "cell_type": "markdown",
      "id": "2ae5a3fb",
      "metadata": {
        "id": "2ae5a3fb"
      },
      "source": [
        "***Turn numpy arrays into tensors***"
      ]
    },
    {
      "cell_type": "code",
      "execution_count": 5,
      "id": "777df565",
      "metadata": {
        "scrolled": true,
        "colab": {
          "base_uri": "https://localhost:8080/"
        },
        "id": "777df565",
        "outputId": "d686cda1-bf98-4cab-8444-01478aae453d"
      },
      "outputs": [
        {
          "output_type": "execute_result",
          "data": {
            "text/plain": [
              "(<tf.Tensor: shape=(8,), dtype=float32, numpy=array([-7., -4., -1.,  2.,  5.,  8., 11., 14.], dtype=float32)>,\n",
              " <tf.Tensor: shape=(8,), dtype=float32, numpy=array([ 3.,  6.,  9., 12., 15., 18., 21., 24.], dtype=float32)>)"
            ]
          },
          "metadata": {},
          "execution_count": 5
        }
      ],
      "source": [
        "X = tf.cast(tf.constant(X),dtype=tf.float32)\n",
        "y = tf.cast(tf.constant(y),dtype=tf.float32)\n",
        "X, y"
      ]
    },
    {
      "cell_type": "code",
      "execution_count": 6,
      "id": "f4cfec4f",
      "metadata": {
        "colab": {
          "base_uri": "https://localhost:8080/"
        },
        "id": "f4cfec4f",
        "outputId": "6a2cd956-5e6d-4fc8-86e7-030117cf4457"
      },
      "outputs": [
        {
          "output_type": "execute_result",
          "data": {
            "text/plain": [
              "<tf.Tensor: shape=(8, 1), dtype=float32, numpy=\n",
              "array([[-7.],\n",
              "       [-4.],\n",
              "       [-1.],\n",
              "       [ 2.],\n",
              "       [ 5.],\n",
              "       [ 8.],\n",
              "       [11.],\n",
              "       [14.]], dtype=float32)>"
            ]
          },
          "metadata": {},
          "execution_count": 6
        }
      ],
      "source": [
        "tf.expand_dims(X,axis=-1)"
      ]
    },
    {
      "cell_type": "code",
      "execution_count": 7,
      "id": "bb2b8dad",
      "metadata": {
        "id": "bb2b8dad"
      },
      "outputs": [],
      "source": [
        "# Set random seed\n",
        "tf.random.set_seed(42)\n",
        "# Import Sequential API\n",
        "from tensorflow.keras.models import Sequential\n",
        "from tensorflow.keras.layers import Dense\n",
        "from tensorflow.keras import optimizers"
      ]
    },
    {
      "cell_type": "code",
      "execution_count": 8,
      "id": "f64c6f27",
      "metadata": {
        "colab": {
          "base_uri": "https://localhost:8080/"
        },
        "id": "f64c6f27",
        "outputId": "5ddee1c7-81cf-4d68-ffcd-aceb170a1f0f"
      },
      "outputs": [
        {
          "output_type": "stream",
          "name": "stderr",
          "text": [
            "WARNING:absl:`lr` is deprecated in Keras optimizer, please use `learning_rate` or use the legacy optimizer, e.g.,tf.keras.optimizers.legacy.Adam.\n"
          ]
        },
        {
          "output_type": "stream",
          "name": "stdout",
          "text": [
            "Epoch 1/200\n",
            "1/1 [==============================] - 6s 6s/step - loss: 13.2313 - mae: 13.2313\n",
            "Epoch 2/200\n",
            "1/1 [==============================] - 0s 11ms/step - loss: 13.1005 - mae: 13.1005\n",
            "Epoch 3/200\n",
            "1/1 [==============================] - 0s 9ms/step - loss: 12.9696 - mae: 12.9696\n",
            "Epoch 4/200\n",
            "1/1 [==============================] - 0s 10ms/step - loss: 12.8386 - mae: 12.8386\n",
            "Epoch 5/200\n",
            "1/1 [==============================] - 0s 10ms/step - loss: 12.7074 - mae: 12.7074\n",
            "Epoch 6/200\n",
            "1/1 [==============================] - 0s 10ms/step - loss: 12.5761 - mae: 12.5761\n",
            "Epoch 7/200\n",
            "1/1 [==============================] - 0s 10ms/step - loss: 12.4446 - mae: 12.4446\n",
            "Epoch 8/200\n",
            "1/1 [==============================] - 0s 10ms/step - loss: 12.3129 - mae: 12.3129\n",
            "Epoch 9/200\n",
            "1/1 [==============================] - 0s 10ms/step - loss: 12.1810 - mae: 12.1810\n",
            "Epoch 10/200\n",
            "1/1 [==============================] - 0s 9ms/step - loss: 12.0489 - mae: 12.0489\n",
            "Epoch 11/200\n",
            "1/1 [==============================] - 0s 17ms/step - loss: 11.9165 - mae: 11.9165\n",
            "Epoch 12/200\n",
            "1/1 [==============================] - 0s 14ms/step - loss: 11.7838 - mae: 11.7838\n",
            "Epoch 13/200\n",
            "1/1 [==============================] - 0s 10ms/step - loss: 11.6509 - mae: 11.6509\n",
            "Epoch 14/200\n",
            "1/1 [==============================] - 0s 9ms/step - loss: 11.5175 - mae: 11.5175\n",
            "Epoch 15/200\n",
            "1/1 [==============================] - 0s 12ms/step - loss: 11.3838 - mae: 11.3838\n",
            "Epoch 16/200\n",
            "1/1 [==============================] - 0s 9ms/step - loss: 11.2496 - mae: 11.2496\n",
            "Epoch 17/200\n",
            "1/1 [==============================] - 0s 9ms/step - loss: 11.1150 - mae: 11.1150\n",
            "Epoch 18/200\n",
            "1/1 [==============================] - 0s 10ms/step - loss: 10.9799 - mae: 10.9799\n",
            "Epoch 19/200\n",
            "1/1 [==============================] - 0s 11ms/step - loss: 10.8443 - mae: 10.8443\n",
            "Epoch 20/200\n",
            "1/1 [==============================] - 0s 10ms/step - loss: 10.7081 - mae: 10.7081\n",
            "Epoch 21/200\n",
            "1/1 [==============================] - 0s 10ms/step - loss: 10.5712 - mae: 10.5712\n",
            "Epoch 22/200\n",
            "1/1 [==============================] - 0s 13ms/step - loss: 10.4338 - mae: 10.4338\n",
            "Epoch 23/200\n",
            "1/1 [==============================] - 0s 10ms/step - loss: 10.2956 - mae: 10.2956\n",
            "Epoch 24/200\n",
            "1/1 [==============================] - 0s 10ms/step - loss: 10.1568 - mae: 10.1568\n",
            "Epoch 25/200\n",
            "1/1 [==============================] - 0s 10ms/step - loss: 10.0171 - mae: 10.0171\n",
            "Epoch 26/200\n",
            "1/1 [==============================] - 0s 10ms/step - loss: 9.8767 - mae: 9.8767\n",
            "Epoch 27/200\n",
            "1/1 [==============================] - 0s 10ms/step - loss: 9.7355 - mae: 9.7355\n",
            "Epoch 28/200\n",
            "1/1 [==============================] - 0s 11ms/step - loss: 9.5933 - mae: 9.5933\n",
            "Epoch 29/200\n",
            "1/1 [==============================] - 0s 10ms/step - loss: 9.4502 - mae: 9.4502\n",
            "Epoch 30/200\n",
            "1/1 [==============================] - 0s 9ms/step - loss: 9.3062 - mae: 9.3062\n",
            "Epoch 31/200\n",
            "1/1 [==============================] - 0s 11ms/step - loss: 9.1612 - mae: 9.1612\n",
            "Epoch 32/200\n",
            "1/1 [==============================] - 0s 10ms/step - loss: 9.0151 - mae: 9.0151\n",
            "Epoch 33/200\n",
            "1/1 [==============================] - 0s 11ms/step - loss: 8.8680 - mae: 8.8680\n",
            "Epoch 34/200\n",
            "1/1 [==============================] - 0s 10ms/step - loss: 8.7197 - mae: 8.7197\n",
            "Epoch 35/200\n",
            "1/1 [==============================] - 0s 11ms/step - loss: 8.5702 - mae: 8.5702\n",
            "Epoch 36/200\n",
            "1/1 [==============================] - 0s 8ms/step - loss: 8.4196 - mae: 8.4196\n",
            "Epoch 37/200\n",
            "1/1 [==============================] - 0s 10ms/step - loss: 8.2676 - mae: 8.2676\n",
            "Epoch 38/200\n",
            "1/1 [==============================] - 0s 18ms/step - loss: 8.1144 - mae: 8.1144\n",
            "Epoch 39/200\n",
            "1/1 [==============================] - 0s 8ms/step - loss: 7.9599 - mae: 7.9599\n",
            "Epoch 40/200\n",
            "1/1 [==============================] - 0s 10ms/step - loss: 7.8039 - mae: 7.8039\n",
            "Epoch 41/200\n",
            "1/1 [==============================] - 0s 8ms/step - loss: 7.6466 - mae: 7.6466\n",
            "Epoch 42/200\n",
            "1/1 [==============================] - 0s 11ms/step - loss: 7.4878 - mae: 7.4878\n",
            "Epoch 43/200\n",
            "1/1 [==============================] - 0s 9ms/step - loss: 7.3275 - mae: 7.3275\n",
            "Epoch 44/200\n",
            "1/1 [==============================] - 0s 10ms/step - loss: 7.1656 - mae: 7.1656\n",
            "Epoch 45/200\n",
            "1/1 [==============================] - 0s 11ms/step - loss: 7.0022 - mae: 7.0022\n",
            "Epoch 46/200\n",
            "1/1 [==============================] - 0s 8ms/step - loss: 6.8371 - mae: 6.8371\n",
            "Epoch 47/200\n",
            "1/1 [==============================] - 0s 10ms/step - loss: 6.8027 - mae: 6.8027\n",
            "Epoch 48/200\n",
            "1/1 [==============================] - 0s 12ms/step - loss: 6.7835 - mae: 6.7835\n",
            "Epoch 49/200\n",
            "1/1 [==============================] - 0s 10ms/step - loss: 6.7646 - mae: 6.7646\n",
            "Epoch 50/200\n",
            "1/1 [==============================] - 0s 9ms/step - loss: 6.7460 - mae: 6.7460\n",
            "Epoch 51/200\n",
            "1/1 [==============================] - 0s 10ms/step - loss: 6.7289 - mae: 6.7289\n",
            "Epoch 52/200\n",
            "1/1 [==============================] - 0s 9ms/step - loss: 6.7783 - mae: 6.7783\n",
            "Epoch 53/200\n",
            "1/1 [==============================] - 0s 11ms/step - loss: 6.8127 - mae: 6.8127\n",
            "Epoch 54/200\n",
            "1/1 [==============================] - 0s 11ms/step - loss: 6.8332 - mae: 6.8332\n",
            "Epoch 55/200\n",
            "1/1 [==============================] - 0s 8ms/step - loss: 6.8414 - mae: 6.8414\n",
            "Epoch 56/200\n",
            "1/1 [==============================] - 0s 10ms/step - loss: 6.8384 - mae: 6.8384\n",
            "Epoch 57/200\n",
            "1/1 [==============================] - 0s 12ms/step - loss: 6.8252 - mae: 6.8252\n",
            "Epoch 58/200\n",
            "1/1 [==============================] - 0s 9ms/step - loss: 6.8030 - mae: 6.8030\n",
            "Epoch 59/200\n",
            "1/1 [==============================] - 0s 8ms/step - loss: 6.7727 - mae: 6.7727\n",
            "Epoch 60/200\n",
            "1/1 [==============================] - 0s 10ms/step - loss: 6.7351 - mae: 6.7351\n",
            "Epoch 61/200\n",
            "1/1 [==============================] - 0s 13ms/step - loss: 6.6911 - mae: 6.6911\n",
            "Epoch 62/200\n",
            "1/1 [==============================] - 0s 11ms/step - loss: 6.6413 - mae: 6.6413\n",
            "Epoch 63/200\n",
            "1/1 [==============================] - 0s 10ms/step - loss: 6.5864 - mae: 6.5864\n",
            "Epoch 64/200\n",
            "1/1 [==============================] - 0s 9ms/step - loss: 6.5565 - mae: 6.5565\n",
            "Epoch 65/200\n",
            "1/1 [==============================] - 0s 9ms/step - loss: 6.5460 - mae: 6.5460\n",
            "Epoch 66/200\n",
            "1/1 [==============================] - 0s 13ms/step - loss: 6.5349 - mae: 6.5349\n",
            "Epoch 67/200\n",
            "1/1 [==============================] - 0s 12ms/step - loss: 6.5234 - mae: 6.5234\n",
            "Epoch 68/200\n",
            "1/1 [==============================] - 0s 10ms/step - loss: 6.5114 - mae: 6.5114\n",
            "Epoch 69/200\n",
            "1/1 [==============================] - 0s 12ms/step - loss: 6.4990 - mae: 6.4990\n",
            "Epoch 70/200\n",
            "1/1 [==============================] - 0s 10ms/step - loss: 6.4862 - mae: 6.4862\n",
            "Epoch 71/200\n",
            "1/1 [==============================] - 0s 10ms/step - loss: 6.4731 - mae: 6.4731\n",
            "Epoch 72/200\n",
            "1/1 [==============================] - 0s 10ms/step - loss: 6.4596 - mae: 6.4596\n",
            "Epoch 73/200\n",
            "1/1 [==============================] - 0s 11ms/step - loss: 6.4458 - mae: 6.4458\n",
            "Epoch 74/200\n",
            "1/1 [==============================] - 0s 9ms/step - loss: 6.4316 - mae: 6.4316\n",
            "Epoch 75/200\n",
            "1/1 [==============================] - 0s 10ms/step - loss: 6.4172 - mae: 6.4172\n",
            "Epoch 76/200\n",
            "1/1 [==============================] - 0s 8ms/step - loss: 6.4026 - mae: 6.4026\n",
            "Epoch 77/200\n",
            "1/1 [==============================] - 0s 10ms/step - loss: 6.3876 - mae: 6.3876\n",
            "Epoch 78/200\n",
            "1/1 [==============================] - 0s 10ms/step - loss: 6.3725 - mae: 6.3725\n",
            "Epoch 79/200\n",
            "1/1 [==============================] - 0s 13ms/step - loss: 6.3570 - mae: 6.3570\n",
            "Epoch 80/200\n",
            "1/1 [==============================] - 0s 10ms/step - loss: 6.3414 - mae: 6.3414\n",
            "Epoch 81/200\n",
            "1/1 [==============================] - 0s 8ms/step - loss: 6.3255 - mae: 6.3255\n",
            "Epoch 82/200\n",
            "1/1 [==============================] - 0s 9ms/step - loss: 6.3094 - mae: 6.3094\n",
            "Epoch 83/200\n",
            "1/1 [==============================] - 0s 8ms/step - loss: 6.2931 - mae: 6.2931\n",
            "Epoch 84/200\n",
            "1/1 [==============================] - 0s 11ms/step - loss: 6.2766 - mae: 6.2766\n",
            "Epoch 85/200\n",
            "1/1 [==============================] - 0s 9ms/step - loss: 6.2599 - mae: 6.2599\n",
            "Epoch 86/200\n",
            "1/1 [==============================] - 0s 7ms/step - loss: 6.2429 - mae: 6.2429\n",
            "Epoch 87/200\n",
            "1/1 [==============================] - 0s 8ms/step - loss: 6.2258 - mae: 6.2258\n",
            "Epoch 88/200\n",
            "1/1 [==============================] - 0s 11ms/step - loss: 6.2085 - mae: 6.2085\n",
            "Epoch 89/200\n",
            "1/1 [==============================] - 0s 8ms/step - loss: 6.1910 - mae: 6.1910\n",
            "Epoch 90/200\n",
            "1/1 [==============================] - 0s 10ms/step - loss: 6.1733 - mae: 6.1733\n",
            "Epoch 91/200\n",
            "1/1 [==============================] - 0s 9ms/step - loss: 6.1553 - mae: 6.1553\n",
            "Epoch 92/200\n",
            "1/1 [==============================] - 0s 9ms/step - loss: 6.1372 - mae: 6.1372\n",
            "Epoch 93/200\n",
            "1/1 [==============================] - 0s 9ms/step - loss: 6.1189 - mae: 6.1189\n",
            "Epoch 94/200\n",
            "1/1 [==============================] - 0s 8ms/step - loss: 6.1004 - mae: 6.1004\n",
            "Epoch 95/200\n",
            "1/1 [==============================] - 0s 9ms/step - loss: 6.0818 - mae: 6.0818\n",
            "Epoch 96/200\n",
            "1/1 [==============================] - 0s 9ms/step - loss: 6.0629 - mae: 6.0629\n",
            "Epoch 97/200\n",
            "1/1 [==============================] - 0s 9ms/step - loss: 6.0438 - mae: 6.0438\n",
            "Epoch 98/200\n",
            "1/1 [==============================] - 0s 9ms/step - loss: 6.0245 - mae: 6.0245\n",
            "Epoch 99/200\n",
            "1/1 [==============================] - 0s 10ms/step - loss: 6.0050 - mae: 6.0050\n",
            "Epoch 100/200\n",
            "1/1 [==============================] - 0s 8ms/step - loss: 5.9853 - mae: 5.9853\n",
            "Epoch 101/200\n",
            "1/1 [==============================] - 0s 8ms/step - loss: 5.9655 - mae: 5.9655\n",
            "Epoch 102/200\n",
            "1/1 [==============================] - 0s 10ms/step - loss: 5.9454 - mae: 5.9454\n",
            "Epoch 103/200\n",
            "1/1 [==============================] - 0s 11ms/step - loss: 5.9251 - mae: 5.9251\n",
            "Epoch 104/200\n",
            "1/1 [==============================] - 0s 10ms/step - loss: 5.9046 - mae: 5.9046\n",
            "Epoch 105/200\n",
            "1/1 [==============================] - 0s 15ms/step - loss: 5.8838 - mae: 5.8838\n",
            "Epoch 106/200\n",
            "1/1 [==============================] - 0s 10ms/step - loss: 5.8629 - mae: 5.8629\n",
            "Epoch 107/200\n",
            "1/1 [==============================] - 0s 12ms/step - loss: 5.8418 - mae: 5.8418\n",
            "Epoch 108/200\n",
            "1/1 [==============================] - 0s 11ms/step - loss: 5.8204 - mae: 5.8204\n",
            "Epoch 109/200\n",
            "1/1 [==============================] - 0s 10ms/step - loss: 5.7988 - mae: 5.7988\n",
            "Epoch 110/200\n",
            "1/1 [==============================] - 0s 9ms/step - loss: 5.7770 - mae: 5.7770\n",
            "Epoch 111/200\n",
            "1/1 [==============================] - 0s 9ms/step - loss: 5.7549 - mae: 5.7549\n",
            "Epoch 112/200\n",
            "1/1 [==============================] - 0s 11ms/step - loss: 5.7327 - mae: 5.7327\n",
            "Epoch 113/200\n",
            "1/1 [==============================] - 0s 10ms/step - loss: 5.7161 - mae: 5.7161\n",
            "Epoch 114/200\n",
            "1/1 [==============================] - 0s 10ms/step - loss: 5.6958 - mae: 5.6958\n",
            "Epoch 115/200\n",
            "1/1 [==============================] - 0s 11ms/step - loss: 5.6694 - mae: 5.6694\n",
            "Epoch 116/200\n",
            "1/1 [==============================] - 0s 9ms/step - loss: 5.6492 - mae: 5.6492\n",
            "Epoch 117/200\n",
            "1/1 [==============================] - 0s 9ms/step - loss: 5.6284 - mae: 5.6284\n",
            "Epoch 118/200\n",
            "1/1 [==============================] - 0s 8ms/step - loss: 5.6072 - mae: 5.6072\n",
            "Epoch 119/200\n",
            "1/1 [==============================] - 0s 11ms/step - loss: 5.5856 - mae: 5.5856\n",
            "Epoch 120/200\n",
            "1/1 [==============================] - 0s 10ms/step - loss: 5.5635 - mae: 5.5635\n",
            "Epoch 121/200\n",
            "1/1 [==============================] - 0s 9ms/step - loss: 5.5410 - mae: 5.5410\n",
            "Epoch 122/200\n",
            "1/1 [==============================] - 0s 9ms/step - loss: 5.5181 - mae: 5.5181\n",
            "Epoch 123/200\n",
            "1/1 [==============================] - 0s 10ms/step - loss: 5.4948 - mae: 5.4948\n",
            "Epoch 124/200\n",
            "1/1 [==============================] - 0s 11ms/step - loss: 5.4711 - mae: 5.4711\n",
            "Epoch 125/200\n",
            "1/1 [==============================] - 0s 10ms/step - loss: 5.4470 - mae: 5.4470\n",
            "Epoch 126/200\n",
            "1/1 [==============================] - 0s 9ms/step - loss: 5.4226 - mae: 5.4226\n",
            "Epoch 127/200\n",
            "1/1 [==============================] - 0s 10ms/step - loss: 5.4061 - mae: 5.4061\n",
            "Epoch 128/200\n",
            "1/1 [==============================] - 0s 10ms/step - loss: 5.3768 - mae: 5.3768\n",
            "Epoch 129/200\n",
            "1/1 [==============================] - 0s 10ms/step - loss: 5.3526 - mae: 5.3526\n",
            "Epoch 130/200\n",
            "1/1 [==============================] - 0s 9ms/step - loss: 5.3301 - mae: 5.3301\n",
            "Epoch 131/200\n",
            "1/1 [==============================] - 0s 11ms/step - loss: 5.3070 - mae: 5.3070\n",
            "Epoch 132/200\n",
            "1/1 [==============================] - 0s 11ms/step - loss: 5.2832 - mae: 5.2832\n",
            "Epoch 133/200\n",
            "1/1 [==============================] - 0s 11ms/step - loss: 5.2589 - mae: 5.2589\n",
            "Epoch 134/200\n",
            "1/1 [==============================] - 0s 11ms/step - loss: 5.2340 - mae: 5.2340\n",
            "Epoch 135/200\n",
            "1/1 [==============================] - 0s 9ms/step - loss: 5.2086 - mae: 5.2086\n",
            "Epoch 136/200\n",
            "1/1 [==============================] - 0s 9ms/step - loss: 5.1827 - mae: 5.1827\n",
            "Epoch 137/200\n",
            "1/1 [==============================] - 0s 9ms/step - loss: 5.1563 - mae: 5.1563\n",
            "Epoch 138/200\n",
            "1/1 [==============================] - 0s 9ms/step - loss: 5.1295 - mae: 5.1295\n",
            "Epoch 139/200\n",
            "1/1 [==============================] - 0s 8ms/step - loss: 5.1022 - mae: 5.1022\n",
            "Epoch 140/200\n",
            "1/1 [==============================] - 0s 9ms/step - loss: 5.0744 - mae: 5.0744\n",
            "Epoch 141/200\n",
            "1/1 [==============================] - 0s 12ms/step - loss: 5.0462 - mae: 5.0462\n",
            "Epoch 142/200\n",
            "1/1 [==============================] - 0s 10ms/step - loss: 5.0175 - mae: 5.0175\n",
            "Epoch 143/200\n",
            "1/1 [==============================] - 0s 9ms/step - loss: 4.9885 - mae: 4.9885\n",
            "Epoch 144/200\n",
            "1/1 [==============================] - 0s 11ms/step - loss: 4.9590 - mae: 4.9590\n",
            "Epoch 145/200\n",
            "1/1 [==============================] - 0s 8ms/step - loss: 4.9339 - mae: 4.9339\n",
            "Epoch 146/200\n",
            "1/1 [==============================] - 0s 10ms/step - loss: 4.9011 - mae: 4.9011\n",
            "Epoch 147/200\n",
            "1/1 [==============================] - 0s 9ms/step - loss: 4.8745 - mae: 4.8745\n",
            "Epoch 148/200\n",
            "1/1 [==============================] - 0s 9ms/step - loss: 4.8472 - mae: 4.8472\n",
            "Epoch 149/200\n",
            "1/1 [==============================] - 0s 8ms/step - loss: 4.8191 - mae: 4.8191\n",
            "Epoch 150/200\n",
            "1/1 [==============================] - 0s 11ms/step - loss: 4.7904 - mae: 4.7904\n",
            "Epoch 151/200\n",
            "1/1 [==============================] - 0s 9ms/step - loss: 4.7611 - mae: 4.7611\n",
            "Epoch 152/200\n",
            "1/1 [==============================] - 0s 11ms/step - loss: 4.7310 - mae: 4.7310\n",
            "Epoch 153/200\n",
            "1/1 [==============================] - 0s 9ms/step - loss: 4.7004 - mae: 4.7004\n",
            "Epoch 154/200\n",
            "1/1 [==============================] - 0s 13ms/step - loss: 4.6692 - mae: 4.6692\n",
            "Epoch 155/200\n",
            "1/1 [==============================] - 0s 9ms/step - loss: 4.6375 - mae: 4.6375\n",
            "Epoch 156/200\n",
            "1/1 [==============================] - 0s 9ms/step - loss: 4.6051 - mae: 4.6051\n",
            "Epoch 157/200\n",
            "1/1 [==============================] - 0s 9ms/step - loss: 4.5723 - mae: 4.5723\n",
            "Epoch 158/200\n",
            "1/1 [==============================] - 0s 9ms/step - loss: 4.5389 - mae: 4.5389\n",
            "Epoch 159/200\n",
            "1/1 [==============================] - 0s 11ms/step - loss: 4.5051 - mae: 4.5051\n",
            "Epoch 160/200\n",
            "1/1 [==============================] - 0s 10ms/step - loss: 4.4707 - mae: 4.4707\n",
            "Epoch 161/200\n",
            "1/1 [==============================] - 0s 9ms/step - loss: 4.4358 - mae: 4.4358\n",
            "Epoch 162/200\n",
            "1/1 [==============================] - 0s 9ms/step - loss: 4.4037 - mae: 4.4037\n",
            "Epoch 163/200\n",
            "1/1 [==============================] - 0s 9ms/step - loss: 4.3671 - mae: 4.3671\n",
            "Epoch 164/200\n",
            "1/1 [==============================] - 0s 9ms/step - loss: 4.3330 - mae: 4.3330\n",
            "Epoch 165/200\n",
            "1/1 [==============================] - 0s 9ms/step - loss: 4.2983 - mae: 4.2983\n",
            "Epoch 166/200\n",
            "1/1 [==============================] - 0s 9ms/step - loss: 4.2629 - mae: 4.2629\n",
            "Epoch 167/200\n",
            "1/1 [==============================] - 0s 9ms/step - loss: 4.2269 - mae: 4.2269\n",
            "Epoch 168/200\n",
            "1/1 [==============================] - 0s 9ms/step - loss: 4.1958 - mae: 4.1958\n",
            "Epoch 169/200\n",
            "1/1 [==============================] - 0s 9ms/step - loss: 4.1556 - mae: 4.1556\n",
            "Epoch 170/200\n",
            "1/1 [==============================] - 0s 9ms/step - loss: 4.1201 - mae: 4.1201\n",
            "Epoch 171/200\n",
            "1/1 [==============================] - 0s 8ms/step - loss: 4.0839 - mae: 4.0839\n",
            "Epoch 172/200\n",
            "1/1 [==============================] - 0s 9ms/step - loss: 4.0469 - mae: 4.0469\n",
            "Epoch 173/200\n",
            "1/1 [==============================] - 0s 9ms/step - loss: 4.0092 - mae: 4.0092\n",
            "Epoch 174/200\n",
            "1/1 [==============================] - 0s 9ms/step - loss: 3.9709 - mae: 3.9709\n",
            "Epoch 175/200\n",
            "1/1 [==============================] - 0s 9ms/step - loss: 3.9319 - mae: 3.9319\n",
            "Epoch 176/200\n",
            "1/1 [==============================] - 0s 9ms/step - loss: 3.8923 - mae: 3.8923\n",
            "Epoch 177/200\n",
            "1/1 [==============================] - 0s 10ms/step - loss: 3.8521 - mae: 3.8521\n",
            "Epoch 178/200\n",
            "1/1 [==============================] - 0s 10ms/step - loss: 3.8113 - mae: 3.8113\n",
            "Epoch 179/200\n",
            "1/1 [==============================] - 0s 9ms/step - loss: 3.7812 - mae: 3.7812\n",
            "Epoch 180/200\n",
            "1/1 [==============================] - 0s 8ms/step - loss: 3.7311 - mae: 3.7311\n",
            "Epoch 181/200\n",
            "1/1 [==============================] - 0s 9ms/step - loss: 3.6931 - mae: 3.6931\n",
            "Epoch 182/200\n",
            "1/1 [==============================] - 0s 9ms/step - loss: 3.6546 - mae: 3.6546\n",
            "Epoch 183/200\n",
            "1/1 [==============================] - 0s 11ms/step - loss: 3.6151 - mae: 3.6151\n",
            "Epoch 184/200\n",
            "1/1 [==============================] - 0s 9ms/step - loss: 3.5747 - mae: 3.5747\n",
            "Epoch 185/200\n",
            "1/1 [==============================] - 0s 10ms/step - loss: 3.5335 - mae: 3.5335\n",
            "Epoch 186/200\n",
            "1/1 [==============================] - 0s 9ms/step - loss: 3.4914 - mae: 3.4914\n",
            "Epoch 187/200\n",
            "1/1 [==============================] - 0s 9ms/step - loss: 3.4486 - mae: 3.4486\n",
            "Epoch 188/200\n",
            "1/1 [==============================] - 0s 9ms/step - loss: 3.4050 - mae: 3.4050\n",
            "Epoch 189/200\n",
            "1/1 [==============================] - 0s 9ms/step - loss: 3.3606 - mae: 3.3606\n",
            "Epoch 190/200\n",
            "1/1 [==============================] - 0s 9ms/step - loss: 3.3156 - mae: 3.3156\n",
            "Epoch 191/200\n",
            "1/1 [==============================] - 0s 9ms/step - loss: 3.2698 - mae: 3.2698\n",
            "Epoch 192/200\n",
            "1/1 [==============================] - 0s 9ms/step - loss: 3.2234 - mae: 3.2234\n",
            "Epoch 193/200\n",
            "1/1 [==============================] - 0s 9ms/step - loss: 3.1763 - mae: 3.1763\n",
            "Epoch 194/200\n",
            "1/1 [==============================] - 0s 9ms/step - loss: 3.1286 - mae: 3.1286\n",
            "Epoch 195/200\n",
            "1/1 [==============================] - 0s 9ms/step - loss: 3.0803 - mae: 3.0803\n",
            "Epoch 196/200\n",
            "1/1 [==============================] - 0s 10ms/step - loss: 3.0313 - mae: 3.0313\n",
            "Epoch 197/200\n",
            "1/1 [==============================] - 0s 10ms/step - loss: 2.9818 - mae: 2.9818\n",
            "Epoch 198/200\n",
            "1/1 [==============================] - 0s 9ms/step - loss: 2.9316 - mae: 2.9316\n",
            "Epoch 199/200\n",
            "1/1 [==============================] - 0s 9ms/step - loss: 2.8818 - mae: 2.8818\n",
            "Epoch 200/200\n",
            "1/1 [==============================] - 0s 9ms/step - loss: 2.8324 - mae: 2.8324\n"
          ]
        },
        {
          "output_type": "execute_result",
          "data": {
            "text/plain": [
              "<keras.src.callbacks.History at 0x7dbefff70790>"
            ]
          },
          "metadata": {},
          "execution_count": 8
        }
      ],
      "source": [
        "# Create a model using the Sequential API\n",
        "\n",
        "model = Sequential()\n",
        "model.add(Dense(180,activation=None,name=\"input_layer\"))\n",
        "model.add(Dense(1,name=\"output_layer\"))\n",
        "# Compile the model\n",
        "\n",
        "model.compile(loss=\"mae\",optimizer=optimizers.Adam(lr=0.01) ,metrics=[\"mae\"])\n",
        "\n",
        "# Fit the model\n",
        "\n",
        "model.fit(tf.expand_dims(X,axis=-1),y,epochs=200)"
      ]
    },
    {
      "cell_type": "code",
      "source": [
        "model.summary()"
      ],
      "metadata": {
        "colab": {
          "base_uri": "https://localhost:8080/"
        },
        "id": "2ewq1DRU36xa",
        "outputId": "8e80bc2f-4c61-45ca-fbe8-63a598dd9c23"
      },
      "id": "2ewq1DRU36xa",
      "execution_count": 9,
      "outputs": [
        {
          "output_type": "stream",
          "name": "stdout",
          "text": [
            "Model: \"sequential\"\n",
            "_________________________________________________________________\n",
            " Layer (type)                Output Shape              Param #   \n",
            "=================================================================\n",
            " input_layer (Dense)         (None, 180)               360       \n",
            "                                                                 \n",
            " output_layer (Dense)        (None, 1)                 181       \n",
            "                                                                 \n",
            "=================================================================\n",
            "Total params: 541 (2.11 KB)\n",
            "Trainable params: 541 (2.11 KB)\n",
            "Non-trainable params: 0 (0.00 Byte)\n",
            "_________________________________________________________________\n"
          ]
        }
      ]
    },
    {
      "cell_type": "code",
      "execution_count": 10,
      "id": "79ea1f85",
      "metadata": {
        "id": "79ea1f85",
        "outputId": "8b3b7617-6c67-40cb-90b4-fc8e02ee09be",
        "colab": {
          "base_uri": "https://localhost:8080/"
        }
      },
      "outputs": [
        {
          "output_type": "stream",
          "name": "stderr",
          "text": [
            "/usr/local/lib/python3.10/dist-packages/keras/src/engine/training.py:3000: UserWarning: You are saving your model as an HDF5 file via `model.save()`. This file format is considered legacy. We recommend using instead the native Keras format, e.g. `model.save('my_model.keras')`.\n",
            "  saving_api.save_model(\n"
          ]
        }
      ],
      "source": [
        "from tensorflow.keras.models import load_model\n",
        "\n",
        "model.save('tensor.h5')"
      ]
    },
    {
      "cell_type": "code",
      "execution_count": 11,
      "id": "0d3619ad",
      "metadata": {
        "colab": {
          "base_uri": "https://localhost:8080/"
        },
        "id": "0d3619ad",
        "outputId": "02651ed8-d0af-45a0-e26f-40a5ba42e989"
      },
      "outputs": [
        {
          "output_type": "execute_result",
          "data": {
            "text/plain": [
              "(<tf.Tensor: shape=(8,), dtype=float32, numpy=array([-7., -4., -1.,  2.,  5.,  8., 11., 14.], dtype=float32)>,\n",
              " <tf.Tensor: shape=(8,), dtype=float32, numpy=array([ 3.,  6.,  9., 12., 15., 18., 21., 24.], dtype=float32)>)"
            ]
          },
          "metadata": {},
          "execution_count": 11
        }
      ],
      "source": [
        "X,y"
      ]
    },
    {
      "cell_type": "code",
      "execution_count": 12,
      "id": "b6129437",
      "metadata": {
        "colab": {
          "base_uri": "https://localhost:8080/"
        },
        "id": "b6129437",
        "outputId": "d1f926af-0afa-4f48-f791-11d51de86d48"
      },
      "outputs": [
        {
          "output_type": "stream",
          "name": "stdout",
          "text": [
            "1/1 [==============================] - 0s 81ms/step\n"
          ]
        },
        {
          "output_type": "execute_result",
          "data": {
            "text/plain": [
              "array([[28.950048]], dtype=float32)"
            ]
          },
          "metadata": {},
          "execution_count": 12
        }
      ],
      "source": [
        "model.predict([17.0])"
      ]
    },
    {
      "cell_type": "markdown",
      "id": "d6534df1",
      "metadata": {
        "id": "d6534df1"
      },
      "source": [
        "**Creating new dataset**"
      ]
    },
    {
      "cell_type": "code",
      "execution_count": 13,
      "id": "c61db2a0",
      "metadata": {
        "id": "c61db2a0"
      },
      "outputs": [],
      "source": [
        "X = tf.range(-100,100,4)\n",
        "y = X+10"
      ]
    },
    {
      "cell_type": "code",
      "execution_count": 14,
      "id": "9a8f6c6c",
      "metadata": {
        "id": "9a8f6c6c"
      },
      "outputs": [],
      "source": [
        "# Split the data into train and test sets\n",
        "X_train = X[:40]  # first 40 are training samples (80% of the data)\n",
        "y_train = y[:40]\n",
        "\n",
        "X_test = X[40:] # Last 10 are test samples (20% of the data)\n",
        "y_test = y[40:]"
      ]
    },
    {
      "cell_type": "markdown",
      "id": "6e254444",
      "metadata": {
        "id": "6e254444"
      },
      "source": [
        "# Visualisation of data"
      ]
    },
    {
      "cell_type": "code",
      "execution_count": 15,
      "id": "73dac888",
      "metadata": {
        "colab": {
          "base_uri": "https://localhost:8080/",
          "height": 456
        },
        "id": "73dac888",
        "outputId": "ef6685a5-cafb-4dd3-a4ee-7bc4272e8bba"
      },
      "outputs": [
        {
          "output_type": "display_data",
          "data": {
            "text/plain": [
              "<Figure size 1000x700 with 1 Axes>"
            ],
            "image/png": "[encoded data removed]"
          },
          "metadata": {}
        }
      ],
      "source": [
        "plt.figure(figsize=(10,7))\n",
        "plt.scatter(X_train,y_train,c='b',label=\"Training data\")\n",
        "plt.scatter(X_test,y_test,c='g',label=\"Testing data\")\n",
        "plt.legend();"
      ]
    },
    {
      "cell_type": "code",
      "execution_count": 16,
      "id": "57c3a122",
      "metadata": {
        "id": "57c3a122"
      },
      "outputs": [],
      "source": [
        "#pip install plot_model"
      ]
    },
    {
      "cell_type": "code",
      "execution_count": 17,
      "id": "65149b85",
      "metadata": {
        "id": "65149b85"
      },
      "outputs": [],
      "source": [
        "#pip install pydot_ng"
      ]
    },
    {
      "cell_type": "code",
      "execution_count": 18,
      "id": "99ee4e9a",
      "metadata": {
        "id": "99ee4e9a"
      },
      "outputs": [],
      "source": [
        "#pip install graphviz"
      ]
    },
    {
      "cell_type": "code",
      "execution_count": 19,
      "id": "491b8404",
      "metadata": {
        "id": "491b8404"
      },
      "outputs": [],
      "source": [
        "#pip install pydot"
      ]
    },
    {
      "cell_type": "code",
      "execution_count": 20,
      "id": "dbfb5ce3",
      "metadata": {
        "colab": {
          "base_uri": "https://localhost:8080/",
          "height": 312
        },
        "id": "dbfb5ce3",
        "outputId": "1666eebd-8ad0-4576-ff9c-af5310773785"
      },
      "outputs": [
        {
          "output_type": "execute_result",
          "data": {
            "image/png": "[encoded data removed]",
            "text/plain": [
              "<IPython.core.display.Image object>"
            ]
          },
          "metadata": {},
          "execution_count": 20
        }
      ],
      "source": [
        "from tensorflow.keras.utils import plot_model\n",
        "\n",
        "plot_model(model=model, show_shapes=True,)"
      ]
    },
    {
      "cell_type": "markdown",
      "source": [
        "# Visualisation of Model Predictions"
      ],
      "metadata": {
        "id": "-fZOiV0T4ZT_"
      },
      "id": "-fZOiV0T4ZT_"
    },
    {
      "cell_type": "code",
      "execution_count": 21,
      "id": "52f9a2e9",
      "metadata": {
        "colab": {
          "base_uri": "https://localhost:8080/"
        },
        "id": "52f9a2e9",
        "outputId": "730fe862-8e61-4a94-9931-9788c2956bc5"
      },
      "outputs": [
        {
          "output_type": "stream",
          "name": "stdout",
          "text": [
            "1/1 [==============================] - 0s 45ms/step\n"
          ]
        },
        {
          "output_type": "execute_result",
          "data": {
            "text/plain": [
              "array([[ 86.26872],\n",
              "       [ 91.60067],\n",
              "       [ 96.93264],\n",
              "       [102.26462],\n",
              "       [107.59657],\n",
              "       [112.92856],\n",
              "       [118.26051],\n",
              "       [123.59248],\n",
              "       [128.92445],\n",
              "       [134.25644]], dtype=float32)"
            ]
          },
          "metadata": {},
          "execution_count": 21
        }
      ],
      "source": [
        "y_pred = model.predict(X_test)\n",
        "y_pred"
      ]
    },
    {
      "cell_type": "code",
      "source": [
        "y_test"
      ],
      "metadata": {
        "colab": {
          "base_uri": "https://localhost:8080/"
        },
        "id": "BkF78XyG9MTi",
        "outputId": "fbe79025-72ae-43ab-d42f-a30c5f6bde19"
      },
      "id": "BkF78XyG9MTi",
      "execution_count": 22,
      "outputs": [
        {
          "output_type": "execute_result",
          "data": {
            "text/plain": [
              "<tf.Tensor: shape=(10,), dtype=int32, numpy=array([ 70,  74,  78,  82,  86,  90,  94,  98, 102, 106], dtype=int32)>"
            ]
          },
          "metadata": {},
          "execution_count": 22
        }
      ]
    },
    {
      "cell_type": "markdown",
      "source": [
        "**Creating a plotting function**"
      ],
      "metadata": {
        "id": "vSd18q6O-EFw"
      },
      "id": "vSd18q6O-EFw"
    },
    {
      "cell_type": "code",
      "source": [
        "def plot_pred(train_data=X_train,\n",
        "              train_labels=y_train,\n",
        "              test_data=X_test,\n",
        "              test_labels=y_test,\n",
        "              predict=y_pred):\n",
        "  \"\"\"\n",
        "  Plots training data, test data and compare predcitions to true labels\n",
        "  \"\"\"\n",
        "  plt.figure(figsize=(10,7))\n",
        "  plt.scatter(train_data,train_labels,c='b',label=\"Training data\")\n",
        "  plt.scatter(test_data,test_labels,c='g',label=\"Testing data\")\n",
        "  plt.scatter(test_data,y_pred,c='r',label=\"Prediction data\")\n",
        "\n",
        "  plt.legend();"
      ],
      "metadata": {
        "id": "Y6oNYevN9WWa"
      },
      "id": "Y6oNYevN9WWa",
      "execution_count": 23,
      "outputs": []
    },
    {
      "cell_type": "code",
      "source": [
        "plot_pred()"
      ],
      "metadata": {
        "colab": {
          "base_uri": "https://localhost:8080/",
          "height": 452
        },
        "id": "1Fn4C0e2_Z__",
        "outputId": "293bb411-2093-4294-b11d-9e27c330c953"
      },
      "id": "1Fn4C0e2_Z__",
      "execution_count": 24,
      "outputs": [
        {
          "output_type": "display_data",
          "data": {
            "text/plain": [
              "<Figure size 1000x700 with 1 Axes>"
            ],
            "image/png": "[encoded data removed]"
          },
          "metadata": {}
        }
      ]
    },
    {
      "cell_type": "markdown",
      "source": [
        "**Evalutation of model**"
      ],
      "metadata": {
        "id": "NI7mA-_NvhQ6"
      },
      "id": "NI7mA-_NvhQ6"
    },
    {
      "cell_type": "code",
      "source": [
        "model.evaluate(X_test,y_test)"
      ],
      "metadata": {
        "colab": {
          "base_uri": "https://localhost:8080/"
        },
        "id": "DFENnuTxvcNS",
        "outputId": "2f1adbf7-ea71-40bc-e845-5d5815663b4c"
      },
      "id": "DFENnuTxvcNS",
      "execution_count": 26,
      "outputs": [
        {
          "output_type": "stream",
          "name": "stdout",
          "text": [
            "1/1 [==============================] - 0s 127ms/step - loss: 22.2626 - mae: 22.2626\n"
          ]
        },
        {
          "output_type": "execute_result",
          "data": {
            "text/plain": [
              "[22.2625675201416, 22.2625675201416]"
            ]
          },
          "metadata": {},
          "execution_count": 26
        }
      ]
    },
    {
      "cell_type": "code",
      "source": [
        "# Calculate the mean absolute error\n",
        "mae = tf.metrics.mean_absolute_error(y_true=y_test,\n",
        "                                     y_pred=tf.constant(y_pred))\n",
        "mae"
      ],
      "metadata": {
        "colab": {
          "base_uri": "https://localhost:8080/"
        },
        "id": "qi5mpXyXvQ__",
        "outputId": "9ee5d551-40f5-4c9d-8ebd-c53daf5bbe75"
      },
      "id": "qi5mpXyXvQ__",
      "execution_count": 27,
      "outputs": [
        {
          "output_type": "execute_result",
          "data": {
            "text/plain": [
              "<tf.Tensor: shape=(10,), dtype=float32, numpy=\n",
              "array([10.      , 10.320134, 11.973056, 15.011694, 19.596573, 24.928558,\n",
              "       30.260513, 35.592484, 40.924454, 46.25644 ], dtype=float32)>"
            ]
          },
          "metadata": {},
          "execution_count": 27
        }
      ]
    },
    {
      "cell_type": "code",
      "source": [
        "tf.constant(y_pred)"
      ],
      "metadata": {
        "id": "IvKaMKJ2_dAn",
        "colab": {
          "base_uri": "https://localhost:8080/"
        },
        "outputId": "a9359162-1dba-4d47-cde5-633c69202b73"
      },
      "id": "IvKaMKJ2_dAn",
      "execution_count": 28,
      "outputs": [
        {
          "output_type": "execute_result",
          "data": {
            "text/plain": [
              "<tf.Tensor: shape=(10, 1), dtype=float32, numpy=\n",
              "array([[ 86.26872],\n",
              "       [ 91.60067],\n",
              "       [ 96.93264],\n",
              "       [102.26462],\n",
              "       [107.59657],\n",
              "       [112.92856],\n",
              "       [118.26051],\n",
              "       [123.59248],\n",
              "       [128.92445],\n",
              "       [134.25644]], dtype=float32)>"
            ]
          },
          "metadata": {},
          "execution_count": 28
        }
      ]
    },
    {
      "cell_type": "code",
      "source": [
        "tf.squeeze(y_pred)"
      ],
      "metadata": {
        "colab": {
          "base_uri": "https://localhost:8080/"
        },
        "id": "r1J9Yrfmw3AW",
        "outputId": "bd4aab57-f513-4aa4-deed-7bda525bea25"
      },
      "id": "r1J9Yrfmw3AW",
      "execution_count": 29,
      "outputs": [
        {
          "output_type": "execute_result",
          "data": {
            "text/plain": [
              "<tf.Tensor: shape=(10,), dtype=float32, numpy=\n",
              "array([ 86.26872,  91.60067,  96.93264, 102.26462, 107.59657, 112.92856,\n",
              "       118.26051, 123.59248, 128.92445, 134.25644], dtype=float32)>"
            ]
          },
          "metadata": {},
          "execution_count": 29
        }
      ]
    },
    {
      "cell_type": "code",
      "source": [
        "# Calculate the mean absolute error\n",
        "mae = tf.metrics.mean_absolute_error(y_true=y_test,\n",
        "                                     y_pred=tf.squeeze(y_pred))\n",
        "mae"
      ],
      "metadata": {
        "colab": {
          "base_uri": "https://localhost:8080/"
        },
        "id": "9KEvucJ_xBRT",
        "outputId": "1d0368f8-be11-4ce1-c5f2-343cf75c08ad"
      },
      "id": "9KEvucJ_xBRT",
      "execution_count": 31,
      "outputs": [
        {
          "output_type": "execute_result",
          "data": {
            "text/plain": [
              "<tf.Tensor: shape=(), dtype=float32, numpy=22.262568>"
            ]
          },
          "metadata": {},
          "execution_count": 31
        }
      ]
    },
    {
      "cell_type": "code",
      "source": [
        "# Calculate the mean square error\n",
        "mse = tf.metrics.mean_squared_error(y_test,tf.squeeze(y_pred))\n",
        "mse"
      ],
      "metadata": {
        "colab": {
          "base_uri": "https://localhost:8080/"
        },
        "id": "WZ-LjYiHxOSZ",
        "outputId": "42b1af41-3ae1-4147-e27a-fa207e48ffc0"
      },
      "id": "WZ-LjYiHxOSZ",
      "execution_count": 34,
      "outputs": [
        {
          "output_type": "execute_result",
          "data": {
            "text/plain": [
              "<tf.Tensor: shape=(), dtype=float32, numpy=510.25854>"
            ]
          },
          "metadata": {},
          "execution_count": 34
        }
      ]
    },
    {
      "cell_type": "code",
      "source": [],
      "metadata": {
        "id": "-RpVMLThxpi5"
      },
      "id": "-RpVMLThxpi5",
      "execution_count": null,
      "outputs": []
    }
  ],
  "metadata": {
    "kernelspec": {
      "display_name": "Python 3",
      "name": "python3"
    },
    "language_info": {
      "codemirror_mode": {
        "name": "ipython",
        "version": 3
      },
      "file_extension": ".py",
      "mimetype": "text/x-python",
      "name": "python",
      "nbconvert_exporter": "python",
      "pygments_lexer": "ipython3",
      "version": "3.11.3"
    },
    "colab": {
      "provenance": [],
      "gpuType": "T4"
    },
    "accelerator": "GPU"
  },
  "nbformat": 4,
  "nbformat_minor": 5
}