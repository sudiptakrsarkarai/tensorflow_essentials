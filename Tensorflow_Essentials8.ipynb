{
 "cells": [
  {
   "cell_type": "markdown",
   "id": "5bb9b58c",
   "metadata": {},
   "source": [
    "# Fundamentals of Tensorflow"
   ]
  },
  {
   "cell_type": "code",
   "execution_count": 1,
   "id": "8564019f",
   "metadata": {},
   "outputs": [],
   "source": [
    "import tensorflow as tf"
   ]
  },
  {
   "cell_type": "markdown",
   "id": "a5c82b94",
   "metadata": {},
   "source": [
    "**Sparse Tensor** <br>\n",
    "A sparse tensor is a tensor in which most of the elements are zero (or some other specified \"default\" value). Storing such tensors in a dense format, where every value (including zeros) has a dedicated memory location, can be inefficient both in terms of memory and computational resources. "
   ]
  },
  {
   "cell_type": "code",
   "execution_count": 2,
   "id": "02be93f2",
   "metadata": {},
   "outputs": [],
   "source": [
    "tensor_s = tf.sparse.SparseTensor([[1,1],[3,4]],values= [11,56], dense_shape=[5,6])"
   ]
  },
  {
   "cell_type": "code",
   "execution_count": 3,
   "id": "9c540ed6",
   "metadata": {},
   "outputs": [
    {
     "data": {
      "text/plain": [
       "SparseTensor(indices=tf.Tensor(\n",
       "[[1 1]\n",
       " [3 4]], shape=(2, 2), dtype=int64), values=tf.Tensor([11 56], shape=(2,), dtype=int32), dense_shape=tf.Tensor([5 6], shape=(2,), dtype=int64))"
      ]
     },
     "execution_count": 3,
     "metadata": {},
     "output_type": "execute_result"
    }
   ],
   "source": [
    "tensor_s"
   ]
  },
  {
   "cell_type": "markdown",
   "id": "22f9c5a1",
   "metadata": {},
   "source": [
    "**The Value [1,1], [3,4] refers to the index position of the tensor and the values consists of values i.e [11,56] in the dense tensor of shape 5x6**"
   ]
  },
  {
   "cell_type": "code",
   "execution_count": 4,
   "id": "efd280ed",
   "metadata": {},
   "outputs": [
    {
     "data": {
      "text/plain": [
       "<tf.Tensor: shape=(5, 6), dtype=int32, numpy=\n",
       "array([[ 0,  0,  0,  0,  0,  0],\n",
       "       [ 0, 11,  0,  0,  0,  0],\n",
       "       [ 0,  0,  0,  0,  0,  0],\n",
       "       [ 0,  0,  0,  0, 56,  0],\n",
       "       [ 0,  0,  0,  0,  0,  0]])>"
      ]
     },
     "execution_count": 4,
     "metadata": {},
     "output_type": "execute_result"
    }
   ],
   "source": [
    "tf.sparse.to_dense(tensor_s)"
   ]
  },
  {
   "cell_type": "markdown",
   "id": "57eb1333",
   "metadata": {},
   "source": [
    "**Working With Tensor String**"
   ]
  },
  {
   "cell_type": "code",
   "execution_count": 7,
   "id": "4cf6c22e",
   "metadata": {},
   "outputs": [
    {
     "name": "stdout",
     "output_type": "stream",
     "text": [
      "tf.Tensor([b'Hello' b' i am' b' a string'], shape=(3,), dtype=string)\n"
     ]
    }
   ],
   "source": [
    "st = \"Hello, i am, a string\"\n",
    "lst = st.split(\",\")\n",
    "tensor_str = tf.constant(lst)\n",
    "print(tensor_str)"
   ]
  },
  {
   "cell_type": "code",
   "execution_count": 9,
   "id": "c9b6e304",
   "metadata": {},
   "outputs": [
    {
     "data": {
      "text/plain": [
       "<tf.Tensor: shape=(), dtype=string, numpy=b'Hello i am a string'>"
      ]
     },
     "execution_count": 9,
     "metadata": {},
     "output_type": "execute_result"
    }
   ],
   "source": [
    "# Joining the list to string \n",
    "tf.strings.join(tensor_str, separator='')"
   ]
  },
  {
   "cell_type": "markdown",
   "id": "0843ae59",
   "metadata": {},
   "source": [
    "**Tensor Variables**"
   ]
  },
  {
   "cell_type": "code",
   "execution_count": 11,
   "id": "5cbaf2dd",
   "metadata": {},
   "outputs": [],
   "source": [
    "x =tf.constant([1,2])"
   ]
  },
  {
   "cell_type": "code",
   "execution_count": 12,
   "id": "95ca1b51",
   "metadata": {},
   "outputs": [
    {
     "name": "stdout",
     "output_type": "stream",
     "text": [
      "<tf.Variable 'var1:0' shape=(2,) dtype=int32, numpy=array([1, 2])>\n"
     ]
    }
   ],
   "source": [
    "x_var = tf.Variable(x, name='var1')\n",
    "print(x_var)"
   ]
  },
  {
   "cell_type": "code",
   "execution_count": 15,
   "id": "9b0bbfcd",
   "metadata": {},
   "outputs": [
    {
     "name": "stdout",
     "output_type": "stream",
     "text": [
      "<tf.Variable 'var1:0' shape=(2,) dtype=int32, numpy=array([3, 4])>\n"
     ]
    }
   ],
   "source": [
    "x_var.assign([3,4])\n",
    "print(x_var)"
   ]
  },
  {
   "cell_type": "code",
   "execution_count": 16,
   "id": "4071435d",
   "metadata": {},
   "outputs": [
    {
     "data": {
      "text/plain": [
       "<tf.Variable 'UnreadVariable' shape=(2,) dtype=int32, numpy=array([0, 0])>"
      ]
     },
     "execution_count": 16,
     "metadata": {},
     "output_type": "execute_result"
    }
   ],
   "source": [
    "x_var.assign_sub([3,4])"
   ]
  },
  {
   "cell_type": "code",
   "execution_count": null,
   "id": "b97dc4d1",
   "metadata": {},
   "outputs": [],
   "source": []
  }
 ],
 "metadata": {
  "kernelspec": {
   "display_name": "Python 3 (ipykernel)",
   "language": "python",
   "name": "python3"
  },
  "language_info": {
   "codemirror_mode": {
    "name": "ipython",
    "version": 3
   },
   "file_extension": ".py",
   "mimetype": "text/x-python",
   "name": "python",
   "nbconvert_exporter": "python",
   "pygments_lexer": "ipython3",
   "version": "3.11.3"
  }
 },
 "nbformat": 4,
 "nbformat_minor": 5
}
