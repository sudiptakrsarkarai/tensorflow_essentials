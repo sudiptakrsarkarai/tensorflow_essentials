{
 "cells": [
  {
   "cell_type": "markdown",
   "id": "8fa9d64c",
   "metadata": {},
   "source": [
    "# Fundamentals of Tensorflow"
   ]
  },
  {
   "cell_type": "code",
   "execution_count": 1,
   "id": "9db9074f",
   "metadata": {},
   "outputs": [],
   "source": [
    "import tensorflow as tf"
   ]
  },
  {
   "cell_type": "markdown",
   "id": "751714e4",
   "metadata": {},
   "source": [
    "**Inverse of Matrix and SVD (Single Value Decompose)**"
   ]
  },
  {
   "cell_type": "code",
   "execution_count": 5,
   "id": "6ff1f306",
   "metadata": {},
   "outputs": [
    {
     "data": {
      "text/plain": [
       "<tf.Tensor: shape=(3, 3), dtype=float32, numpy=\n",
       "array([[ 0.4248366 , -0.02614375,  0.32679734],\n",
       "       [-0.2875817 , -0.01307189,  0.1633987 ],\n",
       "       [ 0.00163399,  0.01143791, -0.01797386]], dtype=float32)>"
      ]
     },
     "execution_count": 5,
     "metadata": {},
     "output_type": "execute_result"
    }
   ],
   "source": [
    "tensor = tf.constant([[1,-2,0],\n",
    "                     [3,5,100],\n",
    "                     [2,3,8]],dtype=tf.float32)\n",
    "tf.linalg.inv(tensor)"
   ]
  },
  {
   "cell_type": "markdown",
   "id": "a5b4b98d",
   "metadata": {},
   "source": [
    "**SVD**, or Singular Value Decomposition, is a matrix factorization technique that decomposes a matrix into three other matrices"
   ]
  },
  {
   "cell_type": "code",
   "execution_count": 6,
   "id": "7461cc38",
   "metadata": {},
   "outputs": [
    {
     "name": "stdout",
     "output_type": "stream",
     "text": [
      "tf.Tensor([100.50496     3.3971667   1.792451 ], shape=(3,), dtype=float32)\n",
      "tf.Tensor(\n",
      "[[-7.2337181e-04 -4.6255928e-01  8.8658822e-01]\n",
      " [ 9.9666262e-01 -7.2704256e-02 -3.7118815e-02]\n",
      " [ 8.1628367e-02  8.8360238e-01  4.6106824e-01]], shape=(3, 3), dtype=float32)\n",
      "tf.Tensor(\n",
      "[[ 0.03136679  0.319835    0.94695425]\n",
      " [ 0.05203373  0.9456129  -0.32110563]\n",
      " [ 0.9981526  -0.05934559 -0.01301867]], shape=(3, 3), dtype=float32)\n"
     ]
    }
   ],
   "source": [
    "s,u,v = tf.linalg.svd(tensor)\n",
    "print(s)\n",
    "print(u)\n",
    "print(v)"
   ]
  },
  {
   "cell_type": "markdown",
   "id": "a8515acc",
   "metadata": {},
   "source": [
    "**Ragged Tensor**\n",
    "Ragged tensors in TensorFlow are used to handle and represent data that doesn't fit neatly into a rectangular shape. In other words, they are used to represent non-uniform or \"ragged\" multi-dimensional data."
   ]
  },
  {
   "cell_type": "code",
   "execution_count": 7,
   "id": "b5be9b6c",
   "metadata": {},
   "outputs": [
    {
     "name": "stdout",
     "output_type": "stream",
     "text": [
      "<tf.RaggedTensor [[1, 2, 0], [3], [3, 5, 6, 5, 6], [2, 3, 8]]>\n"
     ]
    }
   ],
   "source": [
    "tensor_1 = [[1,2,0],\n",
    "           [3,],\n",
    "           [3,5,6,5,6],\n",
    "           [2,3,8]]\n",
    "tensor_ragged = tf.ragged.constant(tensor_1)\n",
    "print(tensor_ragged)"
   ]
  },
  {
   "cell_type": "code",
   "execution_count": null,
   "id": "5a80b7cc",
   "metadata": {},
   "outputs": [],
   "source": []
  }
 ],
 "metadata": {
  "kernelspec": {
   "display_name": "Python 3 (ipykernel)",
   "language": "python",
   "name": "python3"
  },
  "language_info": {
   "codemirror_mode": {
    "name": "ipython",
    "version": 3
   },
   "file_extension": ".py",
   "mimetype": "text/x-python",
   "name": "python",
   "nbconvert_exporter": "python",
   "pygments_lexer": "ipython3",
   "version": "3.11.3"
  }
 },
 "nbformat": 4,
 "nbformat_minor": 5
}
